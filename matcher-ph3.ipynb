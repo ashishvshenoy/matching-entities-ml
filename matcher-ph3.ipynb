{
 "cells": [
  {
   "cell_type": "code",
   "execution_count": 3,
   "metadata": {
    "collapsed": false
   },
   "outputs": [],
   "source": [
    "import magellan as mg"
   ]
  },
  {
   "cell_type": "code",
   "execution_count": 4,
   "metadata": {
    "collapsed": true
   },
   "outputs": [],
   "source": [
    "import pandas as pd"
   ]
  },
  {
   "cell_type": "code",
   "execution_count": 5,
   "metadata": {
    "collapsed": false
   },
   "outputs": [
    {
     "data": {
      "text/plain": [
       "True"
      ]
     },
     "execution_count": 5,
     "metadata": {},
     "output_type": "execute_result"
    }
   ],
   "source": [
    "mg.init_jvm()"
   ]
  },
  {
   "cell_type": "code",
   "execution_count": 6,
   "metadata": {
    "collapsed": false
   },
   "outputs": [],
   "source": [
    "# read tables\n",
    "A = mg.read_csv('tableA.csv')\n",
    "B = mg.read_csv('tableB.csv')"
   ]
  },
  {
   "cell_type": "code",
   "execution_count": 7,
   "metadata": {
    "collapsed": false
   },
   "outputs": [
    {
     "data": {
      "text/plain": [
       "1601"
      ]
     },
     "execution_count": 7,
     "metadata": {},
     "output_type": "execute_result"
    }
   ],
   "source": [
    "# Blocking - already done and stored in tableC.csv\n",
    "C = mg.read_csv('Name-Address-CandSet.csv', ltable=A, rtable=B)\n",
    "len(C)"
   ]
  },
  {
   "cell_type": "code",
   "execution_count": 8,
   "metadata": {
    "collapsed": true
   },
   "outputs": [],
   "source": [
    "# Sample the candidate set\n",
    "S = mg.sample_table(C, 450)"
   ]
  },
  {
   "cell_type": "code",
   "execution_count": 9,
   "metadata": {
    "collapsed": false
   },
   "outputs": [
    {
     "data": {
      "text/plain": [
       "448"
      ]
     },
     "execution_count": 9,
     "metadata": {},
     "output_type": "execute_result"
    }
   ],
   "source": [
    "# For the demo, use pre-labeled data\n",
    "G = mg.read_csv('labeled-data-v4.csv', ltable=A, rtable=B)\n",
    "len(G)"
   ]
  },
  {
   "cell_type": "code",
   "execution_count": 10,
   "metadata": {
    "collapsed": false,
    "scrolled": true
   },
   "outputs": [],
   "source": [
    "# Split G into development (I) and evaluation (J)\n",
    "IJ = mg.train_test_split(G, train_proportion=0.7)\n",
    "I = IJ['train']\n",
    "J = IJ['test']"
   ]
  },
  {
   "cell_type": "code",
   "execution_count": 11,
   "metadata": {
    "collapsed": false
   },
   "outputs": [
    {
     "data": {
      "text/plain": [
       "(313, 135)"
      ]
     },
     "execution_count": 11,
     "metadata": {},
     "output_type": "execute_result"
    }
   ],
   "source": [
    "# check the number of tuples in I and J\n",
    "(len(I), len(J))"
   ]
  },
  {
   "cell_type": "code",
   "execution_count": 13,
   "metadata": {
    "collapsed": true
   },
   "outputs": [],
   "source": [
    "# Selecting the best learning-based matcher using I\n",
    "\n",
    "# Plan \n",
    "\n",
    "# 1. Create a set of ML-matchers\n",
    "# 2. Generate features --> feature_table\n",
    "# 3. Extract feature vectors using I and feature_table\n",
    "# 4. Select best learning-based matcher using CV\n",
    "# 5. Debug the selected matcher (and repeat the above steps)"
   ]
  },
  {
   "cell_type": "code",
   "execution_count": 15,
   "metadata": {
    "collapsed": false
   },
   "outputs": [
    {
     "data": {
      "text/plain": [
       "True"
      ]
     },
     "execution_count": 15,
     "metadata": {},
     "output_type": "execute_result"
    }
   ],
   "source": [
    "#Store Development Set\n",
    "I.to_csv('DevelopmentSet.csv')\n",
    "#Store Evaluation Set\n",
    "J.to_csv('EvaluationSet.csv')"
   ]
  },
  {
   "cell_type": "code",
   "execution_count": 16,
   "metadata": {
    "collapsed": false
   },
   "outputs": [],
   "source": [
    "# Create a set of ML-matchers\n",
    "dt = mg.DTMatcher()\n",
    "svm = mg.SVMMatcher()\n",
    "rf = mg.RFMatcher(name='RF', random_state=0)\n",
    "nb = mg.NBMatcher(name='NB')\n",
    "lg = mg.LogRegMatcher(name='LogReg')\n",
    "ln = mg.LinRegMatcher(name='LinReg')"
   ]
  },
  {
   "cell_type": "code",
   "execution_count": 17,
   "metadata": {
    "collapsed": false
   },
   "outputs": [],
   "source": [
    "# Generate features\n",
    "feat_table = mg.get_features_for_matching(A, B)"
   ]
  },
  {
   "cell_type": "code",
   "execution_count": 20,
   "metadata": {
    "collapsed": false
   },
   "outputs": [
    {
     "data": {
      "text/plain": [
       "32"
      ]
     },
     "execution_count": 20,
     "metadata": {},
     "output_type": "execute_result"
    }
   ],
   "source": [
    "len(feat_table)"
   ]
  },
  {
   "cell_type": "code",
   "execution_count": 22,
   "metadata": {
    "collapsed": false
   },
   "outputs": [
    {
     "data": {
      "text/html": [
       "<div>\n",
       "<table border=\"1\" class=\"dataframe\">\n",
       "  <thead>\n",
       "    <tr style=\"text-align: right;\">\n",
       "      <th></th>\n",
       "      <th>feature_name</th>\n",
       "      <th>left_attribute</th>\n",
       "      <th>right_attribute</th>\n",
       "      <th>left_attr_tokenizer</th>\n",
       "      <th>right_attr_tokenizer</th>\n",
       "      <th>simfunction</th>\n",
       "      <th>function</th>\n",
       "      <th>function_source</th>\n",
       "    </tr>\n",
       "  </thead>\n",
       "  <tbody>\n",
       "    <tr>\n",
       "      <th>0</th>\n",
       "      <td>_id__id_exm</td>\n",
       "      <td>_id</td>\n",
       "      <td>_id</td>\n",
       "      <td>None</td>\n",
       "      <td>None</td>\n",
       "      <td>exact_match</td>\n",
       "      <td>&lt;function _id__id_exm at 0x7eff1d6759b0&gt;</td>\n",
       "      <td>from magellan.feature.simfunctions import *\\nf...</td>\n",
       "    </tr>\n",
       "    <tr>\n",
       "      <th>1</th>\n",
       "      <td>_id__id_anm</td>\n",
       "      <td>_id</td>\n",
       "      <td>_id</td>\n",
       "      <td>None</td>\n",
       "      <td>None</td>\n",
       "      <td>abs_norm</td>\n",
       "      <td>&lt;function _id__id_anm at 0x7eff1d675de8&gt;</td>\n",
       "      <td>from magellan.feature.simfunctions import *\\nf...</td>\n",
       "    </tr>\n",
       "    <tr>\n",
       "      <th>2</th>\n",
       "      <td>_id__id_lev</td>\n",
       "      <td>_id</td>\n",
       "      <td>_id</td>\n",
       "      <td>None</td>\n",
       "      <td>None</td>\n",
       "      <td>lev</td>\n",
       "      <td>&lt;function _id__id_lev at 0x7eff1d675938&gt;</td>\n",
       "      <td>from magellan.feature.simfunctions import *\\nf...</td>\n",
       "    </tr>\n",
       "    <tr>\n",
       "      <th>3</th>\n",
       "      <td>ID_ID_exm</td>\n",
       "      <td>ID</td>\n",
       "      <td>ID</td>\n",
       "      <td>None</td>\n",
       "      <td>None</td>\n",
       "      <td>exact_match</td>\n",
       "      <td>&lt;function ID_ID_exm at 0x7eff1d675d70&gt;</td>\n",
       "      <td>from magellan.feature.simfunctions import *\\nf...</td>\n",
       "    </tr>\n",
       "    <tr>\n",
       "      <th>4</th>\n",
       "      <td>ID_ID_anm</td>\n",
       "      <td>ID</td>\n",
       "      <td>ID</td>\n",
       "      <td>None</td>\n",
       "      <td>None</td>\n",
       "      <td>abs_norm</td>\n",
       "      <td>&lt;function ID_ID_anm at 0x7eff1d675e60&gt;</td>\n",
       "      <td>from magellan.feature.simfunctions import *\\nf...</td>\n",
       "    </tr>\n",
       "    <tr>\n",
       "      <th>5</th>\n",
       "      <td>ID_ID_lev</td>\n",
       "      <td>ID</td>\n",
       "      <td>ID</td>\n",
       "      <td>None</td>\n",
       "      <td>None</td>\n",
       "      <td>lev</td>\n",
       "      <td>&lt;function ID_ID_lev at 0x7eff1d675ed8&gt;</td>\n",
       "      <td>from magellan.feature.simfunctions import *\\nf...</td>\n",
       "    </tr>\n",
       "    <tr>\n",
       "      <th>6</th>\n",
       "      <td>NAME_NAME_jac_qgm_3_qgm_3</td>\n",
       "      <td>NAME</td>\n",
       "      <td>NAME</td>\n",
       "      <td>qgm_3</td>\n",
       "      <td>qgm_3</td>\n",
       "      <td>jaccard</td>\n",
       "      <td>&lt;function NAME_NAME_jac_qgm_3_qgm_3 at 0x7eff1...</td>\n",
       "      <td>from magellan.feature.simfunctions import *\\nf...</td>\n",
       "    </tr>\n",
       "    <tr>\n",
       "      <th>7</th>\n",
       "      <td>NAME_NAME_cos_dlm_dc0_dlm_dc0</td>\n",
       "      <td>NAME</td>\n",
       "      <td>NAME</td>\n",
       "      <td>dlm_dc0</td>\n",
       "      <td>dlm_dc0</td>\n",
       "      <td>cosine</td>\n",
       "      <td>&lt;function NAME_NAME_cos_dlm_dc0_dlm_dc0 at 0x7...</td>\n",
       "      <td>from magellan.feature.simfunctions import *\\nf...</td>\n",
       "    </tr>\n",
       "    <tr>\n",
       "      <th>8</th>\n",
       "      <td>NAME_NAME_jac_dlm_dc0_dlm_dc0</td>\n",
       "      <td>NAME</td>\n",
       "      <td>NAME</td>\n",
       "      <td>dlm_dc0</td>\n",
       "      <td>dlm_dc0</td>\n",
       "      <td>jaccard</td>\n",
       "      <td>&lt;function NAME_NAME_jac_dlm_dc0_dlm_dc0 at 0x7...</td>\n",
       "      <td>from magellan.feature.simfunctions import *\\nf...</td>\n",
       "    </tr>\n",
       "    <tr>\n",
       "      <th>9</th>\n",
       "      <td>NAME_NAME_mel</td>\n",
       "      <td>NAME</td>\n",
       "      <td>NAME</td>\n",
       "      <td>None</td>\n",
       "      <td>None</td>\n",
       "      <td>monge_elkan</td>\n",
       "      <td>&lt;function NAME_NAME_mel at 0x7eff03a0e140&gt;</td>\n",
       "      <td>from magellan.feature.simfunctions import *\\nf...</td>\n",
       "    </tr>\n",
       "    <tr>\n",
       "      <th>10</th>\n",
       "      <td>NAME_NAME_lev</td>\n",
       "      <td>NAME</td>\n",
       "      <td>NAME</td>\n",
       "      <td>None</td>\n",
       "      <td>None</td>\n",
       "      <td>lev</td>\n",
       "      <td>&lt;function NAME_NAME_lev at 0x7eff03a0e1b8&gt;</td>\n",
       "      <td>from magellan.feature.simfunctions import *\\nf...</td>\n",
       "    </tr>\n",
       "    <tr>\n",
       "      <th>11</th>\n",
       "      <td>NAME_NAME_nmw</td>\n",
       "      <td>NAME</td>\n",
       "      <td>NAME</td>\n",
       "      <td>None</td>\n",
       "      <td>None</td>\n",
       "      <td>needleman_wunsch</td>\n",
       "      <td>&lt;function NAME_NAME_nmw at 0x7eff03a0e230&gt;</td>\n",
       "      <td>from magellan.feature.simfunctions import *\\nf...</td>\n",
       "    </tr>\n",
       "    <tr>\n",
       "      <th>12</th>\n",
       "      <td>NAME_NAME_sw</td>\n",
       "      <td>NAME</td>\n",
       "      <td>NAME</td>\n",
       "      <td>None</td>\n",
       "      <td>None</td>\n",
       "      <td>smith_waterman</td>\n",
       "      <td>&lt;function NAME_NAME_sw at 0x7eff03a0e2a8&gt;</td>\n",
       "      <td>from magellan.feature.simfunctions import *\\nf...</td>\n",
       "    </tr>\n",
       "    <tr>\n",
       "      <th>13</th>\n",
       "      <td>NAME_NAME_swg</td>\n",
       "      <td>NAME</td>\n",
       "      <td>NAME</td>\n",
       "      <td>None</td>\n",
       "      <td>None</td>\n",
       "      <td>smith_waterman_gotoh</td>\n",
       "      <td>&lt;function NAME_NAME_swg at 0x7eff03a0e320&gt;</td>\n",
       "      <td>from magellan.feature.simfunctions import *\\nf...</td>\n",
       "    </tr>\n",
       "    <tr>\n",
       "      <th>14</th>\n",
       "      <td>RATING_RATING_exm</td>\n",
       "      <td>RATING</td>\n",
       "      <td>RATING</td>\n",
       "      <td>None</td>\n",
       "      <td>None</td>\n",
       "      <td>exact_match</td>\n",
       "      <td>&lt;function RATING_RATING_exm at 0x7eff03a0e398&gt;</td>\n",
       "      <td>from magellan.feature.simfunctions import *\\nf...</td>\n",
       "    </tr>\n",
       "    <tr>\n",
       "      <th>15</th>\n",
       "      <td>RATING_RATING_anm</td>\n",
       "      <td>RATING</td>\n",
       "      <td>RATING</td>\n",
       "      <td>None</td>\n",
       "      <td>None</td>\n",
       "      <td>abs_norm</td>\n",
       "      <td>&lt;function RATING_RATING_anm at 0x7eff03a0e410&gt;</td>\n",
       "      <td>from magellan.feature.simfunctions import *\\nf...</td>\n",
       "    </tr>\n",
       "    <tr>\n",
       "      <th>16</th>\n",
       "      <td>RATING_RATING_lev</td>\n",
       "      <td>RATING</td>\n",
       "      <td>RATING</td>\n",
       "      <td>None</td>\n",
       "      <td>None</td>\n",
       "      <td>lev</td>\n",
       "      <td>&lt;function RATING_RATING_lev at 0x7eff03a0e488&gt;</td>\n",
       "      <td>from magellan.feature.simfunctions import *\\nf...</td>\n",
       "    </tr>\n",
       "    <tr>\n",
       "      <th>17</th>\n",
       "      <td>PHONENUMBER_PHONENUMBER_jac_qgm_3_qgm_3</td>\n",
       "      <td>PHONENUMBER</td>\n",
       "      <td>PHONENUMBER</td>\n",
       "      <td>qgm_3</td>\n",
       "      <td>qgm_3</td>\n",
       "      <td>jaccard</td>\n",
       "      <td>&lt;function PHONENUMBER_PHONENUMBER_jac_qgm_3_qg...</td>\n",
       "      <td>from magellan.feature.simfunctions import *\\nf...</td>\n",
       "    </tr>\n",
       "    <tr>\n",
       "      <th>18</th>\n",
       "      <td>PHONENUMBER_PHONENUMBER_cos_dlm_dc0_dlm_dc0</td>\n",
       "      <td>PHONENUMBER</td>\n",
       "      <td>PHONENUMBER</td>\n",
       "      <td>dlm_dc0</td>\n",
       "      <td>dlm_dc0</td>\n",
       "      <td>cosine</td>\n",
       "      <td>&lt;function PHONENUMBER_PHONENUMBER_cos_dlm_dc0_...</td>\n",
       "      <td>from magellan.feature.simfunctions import *\\nf...</td>\n",
       "    </tr>\n",
       "    <tr>\n",
       "      <th>19</th>\n",
       "      <td>PHONENUMBER_PHONENUMBER_jac_dlm_dc0_dlm_dc0</td>\n",
       "      <td>PHONENUMBER</td>\n",
       "      <td>PHONENUMBER</td>\n",
       "      <td>dlm_dc0</td>\n",
       "      <td>dlm_dc0</td>\n",
       "      <td>jaccard</td>\n",
       "      <td>&lt;function PHONENUMBER_PHONENUMBER_jac_dlm_dc0_...</td>\n",
       "      <td>from magellan.feature.simfunctions import *\\nf...</td>\n",
       "    </tr>\n",
       "    <tr>\n",
       "      <th>20</th>\n",
       "      <td>PHONENUMBER_PHONENUMBER_mel</td>\n",
       "      <td>PHONENUMBER</td>\n",
       "      <td>PHONENUMBER</td>\n",
       "      <td>None</td>\n",
       "      <td>None</td>\n",
       "      <td>monge_elkan</td>\n",
       "      <td>&lt;function PHONENUMBER_PHONENUMBER_mel at 0x7ef...</td>\n",
       "      <td>from magellan.feature.simfunctions import *\\nf...</td>\n",
       "    </tr>\n",
       "    <tr>\n",
       "      <th>21</th>\n",
       "      <td>PHONENUMBER_PHONENUMBER_lev</td>\n",
       "      <td>PHONENUMBER</td>\n",
       "      <td>PHONENUMBER</td>\n",
       "      <td>None</td>\n",
       "      <td>None</td>\n",
       "      <td>lev</td>\n",
       "      <td>&lt;function PHONENUMBER_PHONENUMBER_lev at 0x7ef...</td>\n",
       "      <td>from magellan.feature.simfunctions import *\\nf...</td>\n",
       "    </tr>\n",
       "    <tr>\n",
       "      <th>22</th>\n",
       "      <td>PHONENUMBER_PHONENUMBER_nmw</td>\n",
       "      <td>PHONENUMBER</td>\n",
       "      <td>PHONENUMBER</td>\n",
       "      <td>None</td>\n",
       "      <td>None</td>\n",
       "      <td>needleman_wunsch</td>\n",
       "      <td>&lt;function PHONENUMBER_PHONENUMBER_nmw at 0x7ef...</td>\n",
       "      <td>from magellan.feature.simfunctions import *\\nf...</td>\n",
       "    </tr>\n",
       "    <tr>\n",
       "      <th>23</th>\n",
       "      <td>PHONENUMBER_PHONENUMBER_sw</td>\n",
       "      <td>PHONENUMBER</td>\n",
       "      <td>PHONENUMBER</td>\n",
       "      <td>None</td>\n",
       "      <td>None</td>\n",
       "      <td>smith_waterman</td>\n",
       "      <td>&lt;function PHONENUMBER_PHONENUMBER_sw at 0x7eff...</td>\n",
       "      <td>from magellan.feature.simfunctions import *\\nf...</td>\n",
       "    </tr>\n",
       "    <tr>\n",
       "      <th>24</th>\n",
       "      <td>PHONENUMBER_PHONENUMBER_swg</td>\n",
       "      <td>PHONENUMBER</td>\n",
       "      <td>PHONENUMBER</td>\n",
       "      <td>None</td>\n",
       "      <td>None</td>\n",
       "      <td>smith_waterman_gotoh</td>\n",
       "      <td>&lt;function PHONENUMBER_PHONENUMBER_swg at 0x7ef...</td>\n",
       "      <td>from magellan.feature.simfunctions import *\\nf...</td>\n",
       "    </tr>\n",
       "    <tr>\n",
       "      <th>25</th>\n",
       "      <td>NO_OF_REVIEWS_NO_OF_REVIEWS_exm</td>\n",
       "      <td>NO_OF_REVIEWS</td>\n",
       "      <td>NO_OF_REVIEWS</td>\n",
       "      <td>None</td>\n",
       "      <td>None</td>\n",
       "      <td>exact_match</td>\n",
       "      <td>&lt;function NO_OF_REVIEWS_NO_OF_REVIEWS_exm at 0...</td>\n",
       "      <td>from magellan.feature.simfunctions import *\\nf...</td>\n",
       "    </tr>\n",
       "    <tr>\n",
       "      <th>26</th>\n",
       "      <td>NO_OF_REVIEWS_NO_OF_REVIEWS_anm</td>\n",
       "      <td>NO_OF_REVIEWS</td>\n",
       "      <td>NO_OF_REVIEWS</td>\n",
       "      <td>None</td>\n",
       "      <td>None</td>\n",
       "      <td>abs_norm</td>\n",
       "      <td>&lt;function NO_OF_REVIEWS_NO_OF_REVIEWS_anm at 0...</td>\n",
       "      <td>from magellan.feature.simfunctions import *\\nf...</td>\n",
       "    </tr>\n",
       "    <tr>\n",
       "      <th>27</th>\n",
       "      <td>NO_OF_REVIEWS_NO_OF_REVIEWS_lev</td>\n",
       "      <td>NO_OF_REVIEWS</td>\n",
       "      <td>NO_OF_REVIEWS</td>\n",
       "      <td>None</td>\n",
       "      <td>None</td>\n",
       "      <td>lev</td>\n",
       "      <td>&lt;function NO_OF_REVIEWS_NO_OF_REVIEWS_lev at 0...</td>\n",
       "      <td>from magellan.feature.simfunctions import *\\nf...</td>\n",
       "    </tr>\n",
       "    <tr>\n",
       "      <th>28</th>\n",
       "      <td>ADDRESS_ADDRESS_jac_qgm_3_qgm_3</td>\n",
       "      <td>ADDRESS</td>\n",
       "      <td>ADDRESS</td>\n",
       "      <td>qgm_3</td>\n",
       "      <td>qgm_3</td>\n",
       "      <td>jaccard</td>\n",
       "      <td>&lt;function ADDRESS_ADDRESS_jac_qgm_3_qgm_3 at 0...</td>\n",
       "      <td>from magellan.feature.simfunctions import *\\nf...</td>\n",
       "    </tr>\n",
       "    <tr>\n",
       "      <th>29</th>\n",
       "      <td>ADDRESS_ADDRESS_cos_dlm_dc0_dlm_dc0</td>\n",
       "      <td>ADDRESS</td>\n",
       "      <td>ADDRESS</td>\n",
       "      <td>dlm_dc0</td>\n",
       "      <td>dlm_dc0</td>\n",
       "      <td>cosine</td>\n",
       "      <td>&lt;function ADDRESS_ADDRESS_cos_dlm_dc0_dlm_dc0 ...</td>\n",
       "      <td>from magellan.feature.simfunctions import *\\nf...</td>\n",
       "    </tr>\n",
       "    <tr>\n",
       "      <th>30</th>\n",
       "      <td>ADDRESS_ADDRESS_mel</td>\n",
       "      <td>ADDRESS</td>\n",
       "      <td>ADDRESS</td>\n",
       "      <td>None</td>\n",
       "      <td>None</td>\n",
       "      <td>monge_elkan</td>\n",
       "      <td>&lt;function ADDRESS_ADDRESS_mel at 0x7eff03a0eb18&gt;</td>\n",
       "      <td>from magellan.feature.simfunctions import *\\nf...</td>\n",
       "    </tr>\n",
       "    <tr>\n",
       "      <th>31</th>\n",
       "      <td>ADDRESS_ADDRESS_lev</td>\n",
       "      <td>ADDRESS</td>\n",
       "      <td>ADDRESS</td>\n",
       "      <td>None</td>\n",
       "      <td>None</td>\n",
       "      <td>lev</td>\n",
       "      <td>&lt;function ADDRESS_ADDRESS_lev at 0x7eff03a0eb90&gt;</td>\n",
       "      <td>from magellan.feature.simfunctions import *\\nf...</td>\n",
       "    </tr>\n",
       "  </tbody>\n",
       "</table>\n",
       "</div>"
      ],
      "text/plain": [
       "                                   feature_name left_attribute  \\\n",
       "0                                   _id__id_exm            _id   \n",
       "1                                   _id__id_anm            _id   \n",
       "2                                   _id__id_lev            _id   \n",
       "3                                     ID_ID_exm             ID   \n",
       "4                                     ID_ID_anm             ID   \n",
       "5                                     ID_ID_lev             ID   \n",
       "6                     NAME_NAME_jac_qgm_3_qgm_3           NAME   \n",
       "7                 NAME_NAME_cos_dlm_dc0_dlm_dc0           NAME   \n",
       "8                 NAME_NAME_jac_dlm_dc0_dlm_dc0           NAME   \n",
       "9                                 NAME_NAME_mel           NAME   \n",
       "10                                NAME_NAME_lev           NAME   \n",
       "11                                NAME_NAME_nmw           NAME   \n",
       "12                                 NAME_NAME_sw           NAME   \n",
       "13                                NAME_NAME_swg           NAME   \n",
       "14                            RATING_RATING_exm         RATING   \n",
       "15                            RATING_RATING_anm         RATING   \n",
       "16                            RATING_RATING_lev         RATING   \n",
       "17      PHONENUMBER_PHONENUMBER_jac_qgm_3_qgm_3    PHONENUMBER   \n",
       "18  PHONENUMBER_PHONENUMBER_cos_dlm_dc0_dlm_dc0    PHONENUMBER   \n",
       "19  PHONENUMBER_PHONENUMBER_jac_dlm_dc0_dlm_dc0    PHONENUMBER   \n",
       "20                  PHONENUMBER_PHONENUMBER_mel    PHONENUMBER   \n",
       "21                  PHONENUMBER_PHONENUMBER_lev    PHONENUMBER   \n",
       "22                  PHONENUMBER_PHONENUMBER_nmw    PHONENUMBER   \n",
       "23                   PHONENUMBER_PHONENUMBER_sw    PHONENUMBER   \n",
       "24                  PHONENUMBER_PHONENUMBER_swg    PHONENUMBER   \n",
       "25              NO_OF_REVIEWS_NO_OF_REVIEWS_exm  NO_OF_REVIEWS   \n",
       "26              NO_OF_REVIEWS_NO_OF_REVIEWS_anm  NO_OF_REVIEWS   \n",
       "27              NO_OF_REVIEWS_NO_OF_REVIEWS_lev  NO_OF_REVIEWS   \n",
       "28              ADDRESS_ADDRESS_jac_qgm_3_qgm_3        ADDRESS   \n",
       "29          ADDRESS_ADDRESS_cos_dlm_dc0_dlm_dc0        ADDRESS   \n",
       "30                          ADDRESS_ADDRESS_mel        ADDRESS   \n",
       "31                          ADDRESS_ADDRESS_lev        ADDRESS   \n",
       "\n",
       "   right_attribute left_attr_tokenizer right_attr_tokenizer  \\\n",
       "0              _id                None                 None   \n",
       "1              _id                None                 None   \n",
       "2              _id                None                 None   \n",
       "3               ID                None                 None   \n",
       "4               ID                None                 None   \n",
       "5               ID                None                 None   \n",
       "6             NAME               qgm_3                qgm_3   \n",
       "7             NAME             dlm_dc0              dlm_dc0   \n",
       "8             NAME             dlm_dc0              dlm_dc0   \n",
       "9             NAME                None                 None   \n",
       "10            NAME                None                 None   \n",
       "11            NAME                None                 None   \n",
       "12            NAME                None                 None   \n",
       "13            NAME                None                 None   \n",
       "14          RATING                None                 None   \n",
       "15          RATING                None                 None   \n",
       "16          RATING                None                 None   \n",
       "17     PHONENUMBER               qgm_3                qgm_3   \n",
       "18     PHONENUMBER             dlm_dc0              dlm_dc0   \n",
       "19     PHONENUMBER             dlm_dc0              dlm_dc0   \n",
       "20     PHONENUMBER                None                 None   \n",
       "21     PHONENUMBER                None                 None   \n",
       "22     PHONENUMBER                None                 None   \n",
       "23     PHONENUMBER                None                 None   \n",
       "24     PHONENUMBER                None                 None   \n",
       "25   NO_OF_REVIEWS                None                 None   \n",
       "26   NO_OF_REVIEWS                None                 None   \n",
       "27   NO_OF_REVIEWS                None                 None   \n",
       "28         ADDRESS               qgm_3                qgm_3   \n",
       "29         ADDRESS             dlm_dc0              dlm_dc0   \n",
       "30         ADDRESS                None                 None   \n",
       "31         ADDRESS                None                 None   \n",
       "\n",
       "             simfunction                                           function  \\\n",
       "0            exact_match           <function _id__id_exm at 0x7eff1d6759b0>   \n",
       "1               abs_norm           <function _id__id_anm at 0x7eff1d675de8>   \n",
       "2                    lev           <function _id__id_lev at 0x7eff1d675938>   \n",
       "3            exact_match             <function ID_ID_exm at 0x7eff1d675d70>   \n",
       "4               abs_norm             <function ID_ID_anm at 0x7eff1d675e60>   \n",
       "5                    lev             <function ID_ID_lev at 0x7eff1d675ed8>   \n",
       "6                jaccard  <function NAME_NAME_jac_qgm_3_qgm_3 at 0x7eff1...   \n",
       "7                 cosine  <function NAME_NAME_cos_dlm_dc0_dlm_dc0 at 0x7...   \n",
       "8                jaccard  <function NAME_NAME_jac_dlm_dc0_dlm_dc0 at 0x7...   \n",
       "9            monge_elkan         <function NAME_NAME_mel at 0x7eff03a0e140>   \n",
       "10                   lev         <function NAME_NAME_lev at 0x7eff03a0e1b8>   \n",
       "11      needleman_wunsch         <function NAME_NAME_nmw at 0x7eff03a0e230>   \n",
       "12        smith_waterman          <function NAME_NAME_sw at 0x7eff03a0e2a8>   \n",
       "13  smith_waterman_gotoh         <function NAME_NAME_swg at 0x7eff03a0e320>   \n",
       "14           exact_match     <function RATING_RATING_exm at 0x7eff03a0e398>   \n",
       "15              abs_norm     <function RATING_RATING_anm at 0x7eff03a0e410>   \n",
       "16                   lev     <function RATING_RATING_lev at 0x7eff03a0e488>   \n",
       "17               jaccard  <function PHONENUMBER_PHONENUMBER_jac_qgm_3_qg...   \n",
       "18                cosine  <function PHONENUMBER_PHONENUMBER_cos_dlm_dc0_...   \n",
       "19               jaccard  <function PHONENUMBER_PHONENUMBER_jac_dlm_dc0_...   \n",
       "20           monge_elkan  <function PHONENUMBER_PHONENUMBER_mel at 0x7ef...   \n",
       "21                   lev  <function PHONENUMBER_PHONENUMBER_lev at 0x7ef...   \n",
       "22      needleman_wunsch  <function PHONENUMBER_PHONENUMBER_nmw at 0x7ef...   \n",
       "23        smith_waterman  <function PHONENUMBER_PHONENUMBER_sw at 0x7eff...   \n",
       "24  smith_waterman_gotoh  <function PHONENUMBER_PHONENUMBER_swg at 0x7ef...   \n",
       "25           exact_match  <function NO_OF_REVIEWS_NO_OF_REVIEWS_exm at 0...   \n",
       "26              abs_norm  <function NO_OF_REVIEWS_NO_OF_REVIEWS_anm at 0...   \n",
       "27                   lev  <function NO_OF_REVIEWS_NO_OF_REVIEWS_lev at 0...   \n",
       "28               jaccard  <function ADDRESS_ADDRESS_jac_qgm_3_qgm_3 at 0...   \n",
       "29                cosine  <function ADDRESS_ADDRESS_cos_dlm_dc0_dlm_dc0 ...   \n",
       "30           monge_elkan   <function ADDRESS_ADDRESS_mel at 0x7eff03a0eb18>   \n",
       "31                   lev   <function ADDRESS_ADDRESS_lev at 0x7eff03a0eb90>   \n",
       "\n",
       "                                      function_source  \n",
       "0   from magellan.feature.simfunctions import *\\nf...  \n",
       "1   from magellan.feature.simfunctions import *\\nf...  \n",
       "2   from magellan.feature.simfunctions import *\\nf...  \n",
       "3   from magellan.feature.simfunctions import *\\nf...  \n",
       "4   from magellan.feature.simfunctions import *\\nf...  \n",
       "5   from magellan.feature.simfunctions import *\\nf...  \n",
       "6   from magellan.feature.simfunctions import *\\nf...  \n",
       "7   from magellan.feature.simfunctions import *\\nf...  \n",
       "8   from magellan.feature.simfunctions import *\\nf...  \n",
       "9   from magellan.feature.simfunctions import *\\nf...  \n",
       "10  from magellan.feature.simfunctions import *\\nf...  \n",
       "11  from magellan.feature.simfunctions import *\\nf...  \n",
       "12  from magellan.feature.simfunctions import *\\nf...  \n",
       "13  from magellan.feature.simfunctions import *\\nf...  \n",
       "14  from magellan.feature.simfunctions import *\\nf...  \n",
       "15  from magellan.feature.simfunctions import *\\nf...  \n",
       "16  from magellan.feature.simfunctions import *\\nf...  \n",
       "17  from magellan.feature.simfunctions import *\\nf...  \n",
       "18  from magellan.feature.simfunctions import *\\nf...  \n",
       "19  from magellan.feature.simfunctions import *\\nf...  \n",
       "20  from magellan.feature.simfunctions import *\\nf...  \n",
       "21  from magellan.feature.simfunctions import *\\nf...  \n",
       "22  from magellan.feature.simfunctions import *\\nf...  \n",
       "23  from magellan.feature.simfunctions import *\\nf...  \n",
       "24  from magellan.feature.simfunctions import *\\nf...  \n",
       "25  from magellan.feature.simfunctions import *\\nf...  \n",
       "26  from magellan.feature.simfunctions import *\\nf...  \n",
       "27  from magellan.feature.simfunctions import *\\nf...  \n",
       "28  from magellan.feature.simfunctions import *\\nf...  \n",
       "29  from magellan.feature.simfunctions import *\\nf...  \n",
       "30  from magellan.feature.simfunctions import *\\nf...  \n",
       "31  from magellan.feature.simfunctions import *\\nf...  "
      ]
     },
     "execution_count": 22,
     "metadata": {},
     "output_type": "execute_result"
    }
   ],
   "source": [
    "feat_table"
   ]
  },
  {
   "cell_type": "code",
   "execution_count": 23,
   "metadata": {
    "collapsed": true
   },
   "outputs": [],
   "source": [
    "feat_table.to_csv(\"FeatureSetInApproach1.csv\")"
   ]
  },
  {
   "cell_type": "code",
   "execution_count": 15,
   "metadata": {
    "collapsed": true
   },
   "outputs": [],
   "source": [
    "\n",
    "#feat_subset_iter1 = feat_table[6:9]"
   ]
  },
  {
   "cell_type": "code",
   "execution_count": 16,
   "metadata": {
    "collapsed": true
   },
   "outputs": [],
   "source": [
    "#feat_subset_iter5 = feat_table[10:11]"
   ]
  },
  {
   "cell_type": "code",
   "execution_count": 17,
   "metadata": {
    "collapsed": false
   },
   "outputs": [],
   "source": [
    "#feat_subset_iter2 = feat_table[20:25]"
   ]
  },
  {
   "cell_type": "code",
   "execution_count": 18,
   "metadata": {
    "collapsed": true
   },
   "outputs": [],
   "source": [
    "#feat_subset_iter3 = feat_table[28:30]"
   ]
  },
  {
   "cell_type": "code",
   "execution_count": 19,
   "metadata": {
    "collapsed": true
   },
   "outputs": [],
   "source": [
    "#feat_subset_iter4 = feat_table[31:]"
   ]
  },
  {
   "cell_type": "code",
   "execution_count": 20,
   "metadata": {
    "collapsed": false
   },
   "outputs": [],
   "source": [
    "#feat_subset_concat = pd.concat([feat_subset_iter1, feat_subset_iter5, feat_subset_iter2, feat_subset_iter3,feat_subset_iter4])"
   ]
  },
  {
   "cell_type": "code",
   "execution_count": 63,
   "metadata": {
    "collapsed": false
   },
   "outputs": [],
   "source": [
    "#feat_subset_concat"
   ]
  },
  {
   "cell_type": "code",
   "execution_count": 24,
   "metadata": {
    "collapsed": false
   },
   "outputs": [],
   "source": [
    "# Get feature vectors\n",
    "K = mg.extract_feature_vecs(I, feature_table=feat_table, attrs_after='gold')"
   ]
  },
  {
   "cell_type": "code",
   "execution_count": 25,
   "metadata": {
    "collapsed": false
   },
   "outputs": [
    {
     "data": {
      "text/html": [
       "<div>\n",
       "<table border=\"1\" class=\"dataframe\">\n",
       "  <thead>\n",
       "    <tr style=\"text-align: right;\">\n",
       "      <th></th>\n",
       "      <th>_id</th>\n",
       "      <th>ltable._id</th>\n",
       "      <th>rtable._id</th>\n",
       "      <th>_id__id_exm</th>\n",
       "      <th>_id__id_anm</th>\n",
       "      <th>_id__id_lev</th>\n",
       "      <th>ID_ID_exm</th>\n",
       "      <th>ID_ID_anm</th>\n",
       "      <th>ID_ID_lev</th>\n",
       "      <th>NAME_NAME_jac_qgm_3_qgm_3</th>\n",
       "      <th>...</th>\n",
       "      <th>PHONENUMBER_PHONENUMBER_sw</th>\n",
       "      <th>PHONENUMBER_PHONENUMBER_swg</th>\n",
       "      <th>NO_OF_REVIEWS_NO_OF_REVIEWS_exm</th>\n",
       "      <th>NO_OF_REVIEWS_NO_OF_REVIEWS_anm</th>\n",
       "      <th>NO_OF_REVIEWS_NO_OF_REVIEWS_lev</th>\n",
       "      <th>ADDRESS_ADDRESS_jac_qgm_3_qgm_3</th>\n",
       "      <th>ADDRESS_ADDRESS_cos_dlm_dc0_dlm_dc0</th>\n",
       "      <th>ADDRESS_ADDRESS_mel</th>\n",
       "      <th>ADDRESS_ADDRESS_lev</th>\n",
       "      <th>gold</th>\n",
       "    </tr>\n",
       "  </thead>\n",
       "  <tbody>\n",
       "    <tr>\n",
       "      <th>0</th>\n",
       "      <td>0</td>\n",
       "      <td>1494</td>\n",
       "      <td>1143</td>\n",
       "      <td>0</td>\n",
       "      <td>0.765060</td>\n",
       "      <td>0.25</td>\n",
       "      <td>0</td>\n",
       "      <td>0.997228</td>\n",
       "      <td>0.615385</td>\n",
       "      <td>0.000000</td>\n",
       "      <td>...</td>\n",
       "      <td>0.178571</td>\n",
       "      <td>0.142857</td>\n",
       "      <td>0</td>\n",
       "      <td>0.273504</td>\n",
       "      <td>0.000000</td>\n",
       "      <td>0.485714</td>\n",
       "      <td>0.668153</td>\n",
       "      <td>0.815385</td>\n",
       "      <td>0.718750</td>\n",
       "      <td>0</td>\n",
       "    </tr>\n",
       "    <tr>\n",
       "      <th>1</th>\n",
       "      <td>1</td>\n",
       "      <td>2878</td>\n",
       "      <td>5634</td>\n",
       "      <td>0</td>\n",
       "      <td>0.510827</td>\n",
       "      <td>0.00</td>\n",
       "      <td>0</td>\n",
       "      <td>0.997228</td>\n",
       "      <td>0.384615</td>\n",
       "      <td>1.000000</td>\n",
       "      <td>...</td>\n",
       "      <td>1.000000</td>\n",
       "      <td>1.000000</td>\n",
       "      <td>0</td>\n",
       "      <td>0.253659</td>\n",
       "      <td>0.000000</td>\n",
       "      <td>0.833333</td>\n",
       "      <td>0.912871</td>\n",
       "      <td>1.000000</td>\n",
       "      <td>0.842105</td>\n",
       "      <td>1</td>\n",
       "    </tr>\n",
       "    <tr>\n",
       "      <th>2</th>\n",
       "      <td>2</td>\n",
       "      <td>1252</td>\n",
       "      <td>3945</td>\n",
       "      <td>0</td>\n",
       "      <td>0.317364</td>\n",
       "      <td>0.00</td>\n",
       "      <td>0</td>\n",
       "      <td>0.997228</td>\n",
       "      <td>0.384615</td>\n",
       "      <td>0.066667</td>\n",
       "      <td>...</td>\n",
       "      <td>0.428571</td>\n",
       "      <td>0.428571</td>\n",
       "      <td>0</td>\n",
       "      <td>0.035088</td>\n",
       "      <td>0.333333</td>\n",
       "      <td>0.612903</td>\n",
       "      <td>0.730297</td>\n",
       "      <td>0.880000</td>\n",
       "      <td>0.709677</td>\n",
       "      <td>0</td>\n",
       "    </tr>\n",
       "    <tr>\n",
       "      <th>3</th>\n",
       "      <td>3</td>\n",
       "      <td>2745</td>\n",
       "      <td>5305</td>\n",
       "      <td>0</td>\n",
       "      <td>0.517436</td>\n",
       "      <td>0.25</td>\n",
       "      <td>0</td>\n",
       "      <td>0.997228</td>\n",
       "      <td>0.384615</td>\n",
       "      <td>1.000000</td>\n",
       "      <td>...</td>\n",
       "      <td>1.000000</td>\n",
       "      <td>1.000000</td>\n",
       "      <td>0</td>\n",
       "      <td>0.380607</td>\n",
       "      <td>0.250000</td>\n",
       "      <td>0.717949</td>\n",
       "      <td>0.771517</td>\n",
       "      <td>0.939394</td>\n",
       "      <td>0.815789</td>\n",
       "      <td>1</td>\n",
       "    </tr>\n",
       "    <tr>\n",
       "      <th>4</th>\n",
       "      <td>4</td>\n",
       "      <td>39</td>\n",
       "      <td>4679</td>\n",
       "      <td>0</td>\n",
       "      <td>0.008335</td>\n",
       "      <td>0.25</td>\n",
       "      <td>0</td>\n",
       "      <td>0.997228</td>\n",
       "      <td>0.384615</td>\n",
       "      <td>0.241379</td>\n",
       "      <td>...</td>\n",
       "      <td>0.571429</td>\n",
       "      <td>0.600000</td>\n",
       "      <td>0</td>\n",
       "      <td>0.297386</td>\n",
       "      <td>0.000000</td>\n",
       "      <td>0.450000</td>\n",
       "      <td>0.577350</td>\n",
       "      <td>0.740741</td>\n",
       "      <td>0.628571</td>\n",
       "      <td>0</td>\n",
       "    </tr>\n",
       "  </tbody>\n",
       "</table>\n",
       "<p>5 rows × 36 columns</p>\n",
       "</div>"
      ],
      "text/plain": [
       "   _id  ltable._id  rtable._id  _id__id_exm  _id__id_anm  _id__id_lev  \\\n",
       "0    0        1494        1143            0     0.765060         0.25   \n",
       "1    1        2878        5634            0     0.510827         0.00   \n",
       "2    2        1252        3945            0     0.317364         0.00   \n",
       "3    3        2745        5305            0     0.517436         0.25   \n",
       "4    4          39        4679            0     0.008335         0.25   \n",
       "\n",
       "   ID_ID_exm  ID_ID_anm  ID_ID_lev  NAME_NAME_jac_qgm_3_qgm_3  ...   \\\n",
       "0          0   0.997228   0.615385                   0.000000  ...    \n",
       "1          0   0.997228   0.384615                   1.000000  ...    \n",
       "2          0   0.997228   0.384615                   0.066667  ...    \n",
       "3          0   0.997228   0.384615                   1.000000  ...    \n",
       "4          0   0.997228   0.384615                   0.241379  ...    \n",
       "\n",
       "   PHONENUMBER_PHONENUMBER_sw  PHONENUMBER_PHONENUMBER_swg  \\\n",
       "0                    0.178571                     0.142857   \n",
       "1                    1.000000                     1.000000   \n",
       "2                    0.428571                     0.428571   \n",
       "3                    1.000000                     1.000000   \n",
       "4                    0.571429                     0.600000   \n",
       "\n",
       "   NO_OF_REVIEWS_NO_OF_REVIEWS_exm  NO_OF_REVIEWS_NO_OF_REVIEWS_anm  \\\n",
       "0                                0                         0.273504   \n",
       "1                                0                         0.253659   \n",
       "2                                0                         0.035088   \n",
       "3                                0                         0.380607   \n",
       "4                                0                         0.297386   \n",
       "\n",
       "   NO_OF_REVIEWS_NO_OF_REVIEWS_lev  ADDRESS_ADDRESS_jac_qgm_3_qgm_3  \\\n",
       "0                         0.000000                         0.485714   \n",
       "1                         0.000000                         0.833333   \n",
       "2                         0.333333                         0.612903   \n",
       "3                         0.250000                         0.717949   \n",
       "4                         0.000000                         0.450000   \n",
       "\n",
       "   ADDRESS_ADDRESS_cos_dlm_dc0_dlm_dc0  ADDRESS_ADDRESS_mel  \\\n",
       "0                             0.668153             0.815385   \n",
       "1                             0.912871             1.000000   \n",
       "2                             0.730297             0.880000   \n",
       "3                             0.771517             0.939394   \n",
       "4                             0.577350             0.740741   \n",
       "\n",
       "   ADDRESS_ADDRESS_lev  gold  \n",
       "0             0.718750     0  \n",
       "1             0.842105     1  \n",
       "2             0.709677     0  \n",
       "3             0.815789     1  \n",
       "4             0.628571     0  \n",
       "\n",
       "[5 rows x 36 columns]"
      ]
     },
     "execution_count": 25,
     "metadata": {},
     "output_type": "execute_result"
    }
   ],
   "source": [
    "K.head()"
   ]
  },
  {
   "cell_type": "code",
   "execution_count": 26,
   "metadata": {
    "collapsed": true
   },
   "outputs": [],
   "source": [
    "# impute K\n",
    "K.fillna(0, inplace=True)"
   ]
  },
  {
   "cell_type": "code",
   "execution_count": 27,
   "metadata": {
    "collapsed": false
   },
   "outputs": [
    {
     "data": {
      "text/html": [
       "<div>\n",
       "<table border=\"1\" class=\"dataframe\">\n",
       "  <thead>\n",
       "    <tr style=\"text-align: right;\">\n",
       "      <th></th>\n",
       "      <th>_id</th>\n",
       "      <th>ltable._id</th>\n",
       "      <th>rtable._id</th>\n",
       "      <th>_id__id_exm</th>\n",
       "      <th>_id__id_anm</th>\n",
       "      <th>_id__id_lev</th>\n",
       "      <th>ID_ID_exm</th>\n",
       "      <th>ID_ID_anm</th>\n",
       "      <th>ID_ID_lev</th>\n",
       "      <th>NAME_NAME_jac_qgm_3_qgm_3</th>\n",
       "      <th>...</th>\n",
       "      <th>PHONENUMBER_PHONENUMBER_sw</th>\n",
       "      <th>PHONENUMBER_PHONENUMBER_swg</th>\n",
       "      <th>NO_OF_REVIEWS_NO_OF_REVIEWS_exm</th>\n",
       "      <th>NO_OF_REVIEWS_NO_OF_REVIEWS_anm</th>\n",
       "      <th>NO_OF_REVIEWS_NO_OF_REVIEWS_lev</th>\n",
       "      <th>ADDRESS_ADDRESS_jac_qgm_3_qgm_3</th>\n",
       "      <th>ADDRESS_ADDRESS_cos_dlm_dc0_dlm_dc0</th>\n",
       "      <th>ADDRESS_ADDRESS_mel</th>\n",
       "      <th>ADDRESS_ADDRESS_lev</th>\n",
       "      <th>gold</th>\n",
       "    </tr>\n",
       "  </thead>\n",
       "  <tbody>\n",
       "    <tr>\n",
       "      <th>0</th>\n",
       "      <td>0</td>\n",
       "      <td>1494</td>\n",
       "      <td>1143</td>\n",
       "      <td>0</td>\n",
       "      <td>0.765060</td>\n",
       "      <td>0.25</td>\n",
       "      <td>0</td>\n",
       "      <td>0.997228</td>\n",
       "      <td>0.615385</td>\n",
       "      <td>0.000000</td>\n",
       "      <td>...</td>\n",
       "      <td>0.178571</td>\n",
       "      <td>0.142857</td>\n",
       "      <td>0</td>\n",
       "      <td>0.273504</td>\n",
       "      <td>0.000000</td>\n",
       "      <td>0.485714</td>\n",
       "      <td>0.668153</td>\n",
       "      <td>0.815385</td>\n",
       "      <td>0.718750</td>\n",
       "      <td>0</td>\n",
       "    </tr>\n",
       "    <tr>\n",
       "      <th>1</th>\n",
       "      <td>1</td>\n",
       "      <td>2878</td>\n",
       "      <td>5634</td>\n",
       "      <td>0</td>\n",
       "      <td>0.510827</td>\n",
       "      <td>0.00</td>\n",
       "      <td>0</td>\n",
       "      <td>0.997228</td>\n",
       "      <td>0.384615</td>\n",
       "      <td>1.000000</td>\n",
       "      <td>...</td>\n",
       "      <td>1.000000</td>\n",
       "      <td>1.000000</td>\n",
       "      <td>0</td>\n",
       "      <td>0.253659</td>\n",
       "      <td>0.000000</td>\n",
       "      <td>0.833333</td>\n",
       "      <td>0.912871</td>\n",
       "      <td>1.000000</td>\n",
       "      <td>0.842105</td>\n",
       "      <td>1</td>\n",
       "    </tr>\n",
       "    <tr>\n",
       "      <th>2</th>\n",
       "      <td>2</td>\n",
       "      <td>1252</td>\n",
       "      <td>3945</td>\n",
       "      <td>0</td>\n",
       "      <td>0.317364</td>\n",
       "      <td>0.00</td>\n",
       "      <td>0</td>\n",
       "      <td>0.997228</td>\n",
       "      <td>0.384615</td>\n",
       "      <td>0.066667</td>\n",
       "      <td>...</td>\n",
       "      <td>0.428571</td>\n",
       "      <td>0.428571</td>\n",
       "      <td>0</td>\n",
       "      <td>0.035088</td>\n",
       "      <td>0.333333</td>\n",
       "      <td>0.612903</td>\n",
       "      <td>0.730297</td>\n",
       "      <td>0.880000</td>\n",
       "      <td>0.709677</td>\n",
       "      <td>0</td>\n",
       "    </tr>\n",
       "    <tr>\n",
       "      <th>3</th>\n",
       "      <td>3</td>\n",
       "      <td>2745</td>\n",
       "      <td>5305</td>\n",
       "      <td>0</td>\n",
       "      <td>0.517436</td>\n",
       "      <td>0.25</td>\n",
       "      <td>0</td>\n",
       "      <td>0.997228</td>\n",
       "      <td>0.384615</td>\n",
       "      <td>1.000000</td>\n",
       "      <td>...</td>\n",
       "      <td>1.000000</td>\n",
       "      <td>1.000000</td>\n",
       "      <td>0</td>\n",
       "      <td>0.380607</td>\n",
       "      <td>0.250000</td>\n",
       "      <td>0.717949</td>\n",
       "      <td>0.771517</td>\n",
       "      <td>0.939394</td>\n",
       "      <td>0.815789</td>\n",
       "      <td>1</td>\n",
       "    </tr>\n",
       "    <tr>\n",
       "      <th>4</th>\n",
       "      <td>4</td>\n",
       "      <td>39</td>\n",
       "      <td>4679</td>\n",
       "      <td>0</td>\n",
       "      <td>0.008335</td>\n",
       "      <td>0.25</td>\n",
       "      <td>0</td>\n",
       "      <td>0.997228</td>\n",
       "      <td>0.384615</td>\n",
       "      <td>0.241379</td>\n",
       "      <td>...</td>\n",
       "      <td>0.571429</td>\n",
       "      <td>0.600000</td>\n",
       "      <td>0</td>\n",
       "      <td>0.297386</td>\n",
       "      <td>0.000000</td>\n",
       "      <td>0.450000</td>\n",
       "      <td>0.577350</td>\n",
       "      <td>0.740741</td>\n",
       "      <td>0.628571</td>\n",
       "      <td>0</td>\n",
       "    </tr>\n",
       "  </tbody>\n",
       "</table>\n",
       "<p>5 rows × 36 columns</p>\n",
       "</div>"
      ],
      "text/plain": [
       "   _id  ltable._id  rtable._id  _id__id_exm  _id__id_anm  _id__id_lev  \\\n",
       "0    0        1494        1143            0     0.765060         0.25   \n",
       "1    1        2878        5634            0     0.510827         0.00   \n",
       "2    2        1252        3945            0     0.317364         0.00   \n",
       "3    3        2745        5305            0     0.517436         0.25   \n",
       "4    4          39        4679            0     0.008335         0.25   \n",
       "\n",
       "   ID_ID_exm  ID_ID_anm  ID_ID_lev  NAME_NAME_jac_qgm_3_qgm_3  ...   \\\n",
       "0          0   0.997228   0.615385                   0.000000  ...    \n",
       "1          0   0.997228   0.384615                   1.000000  ...    \n",
       "2          0   0.997228   0.384615                   0.066667  ...    \n",
       "3          0   0.997228   0.384615                   1.000000  ...    \n",
       "4          0   0.997228   0.384615                   0.241379  ...    \n",
       "\n",
       "   PHONENUMBER_PHONENUMBER_sw  PHONENUMBER_PHONENUMBER_swg  \\\n",
       "0                    0.178571                     0.142857   \n",
       "1                    1.000000                     1.000000   \n",
       "2                    0.428571                     0.428571   \n",
       "3                    1.000000                     1.000000   \n",
       "4                    0.571429                     0.600000   \n",
       "\n",
       "   NO_OF_REVIEWS_NO_OF_REVIEWS_exm  NO_OF_REVIEWS_NO_OF_REVIEWS_anm  \\\n",
       "0                                0                         0.273504   \n",
       "1                                0                         0.253659   \n",
       "2                                0                         0.035088   \n",
       "3                                0                         0.380607   \n",
       "4                                0                         0.297386   \n",
       "\n",
       "   NO_OF_REVIEWS_NO_OF_REVIEWS_lev  ADDRESS_ADDRESS_jac_qgm_3_qgm_3  \\\n",
       "0                         0.000000                         0.485714   \n",
       "1                         0.000000                         0.833333   \n",
       "2                         0.333333                         0.612903   \n",
       "3                         0.250000                         0.717949   \n",
       "4                         0.000000                         0.450000   \n",
       "\n",
       "   ADDRESS_ADDRESS_cos_dlm_dc0_dlm_dc0  ADDRESS_ADDRESS_mel  \\\n",
       "0                             0.668153             0.815385   \n",
       "1                             0.912871             1.000000   \n",
       "2                             0.730297             0.880000   \n",
       "3                             0.771517             0.939394   \n",
       "4                             0.577350             0.740741   \n",
       "\n",
       "   ADDRESS_ADDRESS_lev  gold  \n",
       "0             0.718750     0  \n",
       "1             0.842105     1  \n",
       "2             0.709677     0  \n",
       "3             0.815789     1  \n",
       "4             0.628571     0  \n",
       "\n",
       "[5 rows x 36 columns]"
      ]
     },
     "execution_count": 27,
     "metadata": {},
     "output_type": "execute_result"
    }
   ],
   "source": [
    "K.head()"
   ]
  },
  {
   "cell_type": "code",
   "execution_count": 31,
   "metadata": {
    "collapsed": false
   },
   "outputs": [],
   "source": [
    "# select the best ML matcher using CV\n",
    "result = mg.select_matcher([dt, rf, svm, nb, lg, ln], table=K, \n",
    "        exclude_attrs=['_id', 'ltable.id', 'rtable.id', 'gold'],\n",
    "        target_attr='gold', metric='precision', random_state=0) "
   ]
  },
  {
   "cell_type": "code",
   "execution_count": 32,
   "metadata": {
    "collapsed": false
   },
   "outputs": [
    {
     "data": {
      "text/plain": [
       "<magellan.matcher.rfmatcher.RFMatcher at 0x7eff03a03310>"
      ]
     },
     "execution_count": 32,
     "metadata": {},
     "output_type": "execute_result"
    }
   ],
   "source": [
    "result['selected_matcher']"
   ]
  },
  {
   "cell_type": "code",
   "execution_count": 33,
   "metadata": {
    "collapsed": false
   },
   "outputs": [
    {
     "data": {
      "text/html": [
       "<div>\n",
       "<table border=\"1\" class=\"dataframe\">\n",
       "  <thead>\n",
       "    <tr style=\"text-align: right;\">\n",
       "      <th></th>\n",
       "      <th>Name</th>\n",
       "      <th>Matcher</th>\n",
       "      <th>Num folds</th>\n",
       "      <th>Fold 1</th>\n",
       "      <th>Fold 2</th>\n",
       "      <th>Fold 3</th>\n",
       "      <th>Fold 4</th>\n",
       "      <th>Fold 5</th>\n",
       "      <th>Mean score</th>\n",
       "    </tr>\n",
       "  </thead>\n",
       "  <tbody>\n",
       "    <tr>\n",
       "      <th>0</th>\n",
       "      <td>DecisionTree_82108063030395210541</td>\n",
       "      <td>&lt;magellan.matcher.dtmatcher.DTMatcher object a...</td>\n",
       "      <td>5</td>\n",
       "      <td>1</td>\n",
       "      <td>0.916667</td>\n",
       "      <td>1.000000</td>\n",
       "      <td>1</td>\n",
       "      <td>1</td>\n",
       "      <td>0.983333</td>\n",
       "    </tr>\n",
       "    <tr>\n",
       "      <th>1</th>\n",
       "      <td>RF</td>\n",
       "      <td>&lt;magellan.matcher.rfmatcher.RFMatcher object a...</td>\n",
       "      <td>5</td>\n",
       "      <td>1</td>\n",
       "      <td>1.000000</td>\n",
       "      <td>1.000000</td>\n",
       "      <td>1</td>\n",
       "      <td>1</td>\n",
       "      <td>1.000000</td>\n",
       "    </tr>\n",
       "    <tr>\n",
       "      <th>2</th>\n",
       "      <td>SVM_04604073030395210541</td>\n",
       "      <td>&lt;magellan.matcher.svmmatcher.SVMMatcher object...</td>\n",
       "      <td>5</td>\n",
       "      <td>1</td>\n",
       "      <td>1.000000</td>\n",
       "      <td>1.000000</td>\n",
       "      <td>1</td>\n",
       "      <td>0</td>\n",
       "      <td>0.800000</td>\n",
       "    </tr>\n",
       "    <tr>\n",
       "      <th>3</th>\n",
       "      <td>NB</td>\n",
       "      <td>&lt;magellan.matcher.nbmatcher.NBMatcher object a...</td>\n",
       "      <td>5</td>\n",
       "      <td>1</td>\n",
       "      <td>0.954545</td>\n",
       "      <td>0.928571</td>\n",
       "      <td>1</td>\n",
       "      <td>1</td>\n",
       "      <td>0.976623</td>\n",
       "    </tr>\n",
       "    <tr>\n",
       "      <th>4</th>\n",
       "      <td>LogReg</td>\n",
       "      <td>&lt;magellan.matcher.logregmatcher.LogRegMatcher ...</td>\n",
       "      <td>5</td>\n",
       "      <td>1</td>\n",
       "      <td>1.000000</td>\n",
       "      <td>0.928571</td>\n",
       "      <td>1</td>\n",
       "      <td>1</td>\n",
       "      <td>0.985714</td>\n",
       "    </tr>\n",
       "    <tr>\n",
       "      <th>5</th>\n",
       "      <td>LinReg</td>\n",
       "      <td>&lt;magellan.matcher.linregmatcher.LinRegMatcher ...</td>\n",
       "      <td>5</td>\n",
       "      <td>1</td>\n",
       "      <td>0.954545</td>\n",
       "      <td>1.000000</td>\n",
       "      <td>1</td>\n",
       "      <td>1</td>\n",
       "      <td>0.990909</td>\n",
       "    </tr>\n",
       "  </tbody>\n",
       "</table>\n",
       "</div>"
      ],
      "text/plain": [
       "                                Name  \\\n",
       "0  DecisionTree_82108063030395210541   \n",
       "1                                 RF   \n",
       "2           SVM_04604073030395210541   \n",
       "3                                 NB   \n",
       "4                             LogReg   \n",
       "5                             LinReg   \n",
       "\n",
       "                                             Matcher  Num folds  Fold 1  \\\n",
       "0  <magellan.matcher.dtmatcher.DTMatcher object a...          5       1   \n",
       "1  <magellan.matcher.rfmatcher.RFMatcher object a...          5       1   \n",
       "2  <magellan.matcher.svmmatcher.SVMMatcher object...          5       1   \n",
       "3  <magellan.matcher.nbmatcher.NBMatcher object a...          5       1   \n",
       "4  <magellan.matcher.logregmatcher.LogRegMatcher ...          5       1   \n",
       "5  <magellan.matcher.linregmatcher.LinRegMatcher ...          5       1   \n",
       "\n",
       "     Fold 2    Fold 3  Fold 4  Fold 5  Mean score  \n",
       "0  0.916667  1.000000       1       1    0.983333  \n",
       "1  1.000000  1.000000       1       1    1.000000  \n",
       "2  1.000000  1.000000       1       0    0.800000  \n",
       "3  0.954545  0.928571       1       1    0.976623  \n",
       "4  1.000000  0.928571       1       1    0.985714  \n",
       "5  0.954545  1.000000       1       1    0.990909  "
      ]
     },
     "execution_count": 33,
     "metadata": {},
     "output_type": "execute_result"
    }
   ],
   "source": [
    "result['cv_stats']"
   ]
  },
  {
   "cell_type": "code",
   "execution_count": 34,
   "metadata": {
    "collapsed": true
   },
   "outputs": [],
   "source": [
    "# select the best ML matcher using CV\n",
    "result = mg.select_matcher([dt, rf, svm, nb, lg, ln], table=K, \n",
    "        exclude_attrs=['_id', 'ltable.id', 'rtable.id', 'gold'],\n",
    "        target_attr='gold', metric='recall', random_state=0) "
   ]
  },
  {
   "cell_type": "code",
   "execution_count": 35,
   "metadata": {
    "collapsed": false
   },
   "outputs": [
    {
     "data": {
      "text/plain": [
       "<magellan.matcher.dtmatcher.DTMatcher at 0x7eff03a032d0>"
      ]
     },
     "execution_count": 35,
     "metadata": {},
     "output_type": "execute_result"
    }
   ],
   "source": [
    "result['selected_matcher']"
   ]
  },
  {
   "cell_type": "code",
   "execution_count": 36,
   "metadata": {
    "collapsed": false
   },
   "outputs": [
    {
     "data": {
      "text/html": [
       "<div>\n",
       "<table border=\"1\" class=\"dataframe\">\n",
       "  <thead>\n",
       "    <tr style=\"text-align: right;\">\n",
       "      <th></th>\n",
       "      <th>Name</th>\n",
       "      <th>Matcher</th>\n",
       "      <th>Num folds</th>\n",
       "      <th>Fold 1</th>\n",
       "      <th>Fold 2</th>\n",
       "      <th>Fold 3</th>\n",
       "      <th>Fold 4</th>\n",
       "      <th>Fold 5</th>\n",
       "      <th>Mean score</th>\n",
       "    </tr>\n",
       "  </thead>\n",
       "  <tbody>\n",
       "    <tr>\n",
       "      <th>0</th>\n",
       "      <td>DecisionTree_82108063030395210541</td>\n",
       "      <td>&lt;magellan.matcher.dtmatcher.DTMatcher object a...</td>\n",
       "      <td>5</td>\n",
       "      <td>0.933333</td>\n",
       "      <td>1.000000</td>\n",
       "      <td>1.000000</td>\n",
       "      <td>1.000000</td>\n",
       "      <td>1.000000</td>\n",
       "      <td>0.986667</td>\n",
       "    </tr>\n",
       "    <tr>\n",
       "      <th>1</th>\n",
       "      <td>RF</td>\n",
       "      <td>&lt;magellan.matcher.rfmatcher.RFMatcher object a...</td>\n",
       "      <td>5</td>\n",
       "      <td>0.933333</td>\n",
       "      <td>1.000000</td>\n",
       "      <td>1.000000</td>\n",
       "      <td>0.947368</td>\n",
       "      <td>1.000000</td>\n",
       "      <td>0.976140</td>\n",
       "    </tr>\n",
       "    <tr>\n",
       "      <th>2</th>\n",
       "      <td>SVM_04604073030395210541</td>\n",
       "      <td>&lt;magellan.matcher.svmmatcher.SVMMatcher object...</td>\n",
       "      <td>5</td>\n",
       "      <td>0.133333</td>\n",
       "      <td>0.136364</td>\n",
       "      <td>0.076923</td>\n",
       "      <td>0.105263</td>\n",
       "      <td>0.000000</td>\n",
       "      <td>0.090377</td>\n",
       "    </tr>\n",
       "    <tr>\n",
       "      <th>3</th>\n",
       "      <td>NB</td>\n",
       "      <td>&lt;magellan.matcher.nbmatcher.NBMatcher object a...</td>\n",
       "      <td>5</td>\n",
       "      <td>1.000000</td>\n",
       "      <td>0.954545</td>\n",
       "      <td>1.000000</td>\n",
       "      <td>0.947368</td>\n",
       "      <td>1.000000</td>\n",
       "      <td>0.980383</td>\n",
       "    </tr>\n",
       "    <tr>\n",
       "      <th>4</th>\n",
       "      <td>LogReg</td>\n",
       "      <td>&lt;magellan.matcher.logregmatcher.LogRegMatcher ...</td>\n",
       "      <td>5</td>\n",
       "      <td>0.933333</td>\n",
       "      <td>1.000000</td>\n",
       "      <td>1.000000</td>\n",
       "      <td>0.947368</td>\n",
       "      <td>0.928571</td>\n",
       "      <td>0.961855</td>\n",
       "    </tr>\n",
       "    <tr>\n",
       "      <th>5</th>\n",
       "      <td>LinReg</td>\n",
       "      <td>&lt;magellan.matcher.linregmatcher.LinRegMatcher ...</td>\n",
       "      <td>5</td>\n",
       "      <td>0.933333</td>\n",
       "      <td>0.954545</td>\n",
       "      <td>0.846154</td>\n",
       "      <td>0.894737</td>\n",
       "      <td>1.000000</td>\n",
       "      <td>0.925754</td>\n",
       "    </tr>\n",
       "  </tbody>\n",
       "</table>\n",
       "</div>"
      ],
      "text/plain": [
       "                                Name  \\\n",
       "0  DecisionTree_82108063030395210541   \n",
       "1                                 RF   \n",
       "2           SVM_04604073030395210541   \n",
       "3                                 NB   \n",
       "4                             LogReg   \n",
       "5                             LinReg   \n",
       "\n",
       "                                             Matcher  Num folds    Fold 1  \\\n",
       "0  <magellan.matcher.dtmatcher.DTMatcher object a...          5  0.933333   \n",
       "1  <magellan.matcher.rfmatcher.RFMatcher object a...          5  0.933333   \n",
       "2  <magellan.matcher.svmmatcher.SVMMatcher object...          5  0.133333   \n",
       "3  <magellan.matcher.nbmatcher.NBMatcher object a...          5  1.000000   \n",
       "4  <magellan.matcher.logregmatcher.LogRegMatcher ...          5  0.933333   \n",
       "5  <magellan.matcher.linregmatcher.LinRegMatcher ...          5  0.933333   \n",
       "\n",
       "     Fold 2    Fold 3    Fold 4    Fold 5  Mean score  \n",
       "0  1.000000  1.000000  1.000000  1.000000    0.986667  \n",
       "1  1.000000  1.000000  0.947368  1.000000    0.976140  \n",
       "2  0.136364  0.076923  0.105263  0.000000    0.090377  \n",
       "3  0.954545  1.000000  0.947368  1.000000    0.980383  \n",
       "4  1.000000  1.000000  0.947368  0.928571    0.961855  \n",
       "5  0.954545  0.846154  0.894737  1.000000    0.925754  "
      ]
     },
     "execution_count": 36,
     "metadata": {},
     "output_type": "execute_result"
    }
   ],
   "source": [
    "result['cv_stats']"
   ]
  },
  {
   "cell_type": "code",
   "execution_count": 39,
   "metadata": {
    "collapsed": false
   },
   "outputs": [],
   "source": [
    "# select the best ML matcher using CV\n",
    "result = mg.select_matcher([dt, rf, svm, nb, lg, ln], table=K, \n",
    "        exclude_attrs=['_id', 'ltable.id', 'rtable.id', 'gold'],\n",
    "        target_attr='gold', metric='f1', random_state=0) "
   ]
  },
  {
   "cell_type": "code",
   "execution_count": 40,
   "metadata": {
    "collapsed": false
   },
   "outputs": [
    {
     "data": {
      "text/plain": [
       "<magellan.matcher.rfmatcher.RFMatcher at 0x7eff03a03310>"
      ]
     },
     "execution_count": 40,
     "metadata": {},
     "output_type": "execute_result"
    }
   ],
   "source": [
    "result['selected_matcher']"
   ]
  },
  {
   "cell_type": "code",
   "execution_count": 41,
   "metadata": {
    "collapsed": false
   },
   "outputs": [
    {
     "data": {
      "text/html": [
       "<div>\n",
       "<table border=\"1\" class=\"dataframe\">\n",
       "  <thead>\n",
       "    <tr style=\"text-align: right;\">\n",
       "      <th></th>\n",
       "      <th>Name</th>\n",
       "      <th>Matcher</th>\n",
       "      <th>Num folds</th>\n",
       "      <th>Fold 1</th>\n",
       "      <th>Fold 2</th>\n",
       "      <th>Fold 3</th>\n",
       "      <th>Fold 4</th>\n",
       "      <th>Fold 5</th>\n",
       "      <th>Mean score</th>\n",
       "    </tr>\n",
       "  </thead>\n",
       "  <tbody>\n",
       "    <tr>\n",
       "      <th>0</th>\n",
       "      <td>DecisionTree_82108063030395210541</td>\n",
       "      <td>&lt;magellan.matcher.dtmatcher.DTMatcher object a...</td>\n",
       "      <td>5</td>\n",
       "      <td>0.965517</td>\n",
       "      <td>0.956522</td>\n",
       "      <td>1.000000</td>\n",
       "      <td>0.972973</td>\n",
       "      <td>1.000000</td>\n",
       "      <td>0.979002</td>\n",
       "    </tr>\n",
       "    <tr>\n",
       "      <th>1</th>\n",
       "      <td>RF</td>\n",
       "      <td>&lt;magellan.matcher.rfmatcher.RFMatcher object a...</td>\n",
       "      <td>5</td>\n",
       "      <td>0.965517</td>\n",
       "      <td>1.000000</td>\n",
       "      <td>1.000000</td>\n",
       "      <td>0.972973</td>\n",
       "      <td>1.000000</td>\n",
       "      <td>0.987698</td>\n",
       "    </tr>\n",
       "    <tr>\n",
       "      <th>2</th>\n",
       "      <td>SVM_04604073030395210541</td>\n",
       "      <td>&lt;magellan.matcher.svmmatcher.SVMMatcher object...</td>\n",
       "      <td>5</td>\n",
       "      <td>0.235294</td>\n",
       "      <td>0.240000</td>\n",
       "      <td>0.142857</td>\n",
       "      <td>0.190476</td>\n",
       "      <td>0.000000</td>\n",
       "      <td>0.161725</td>\n",
       "    </tr>\n",
       "    <tr>\n",
       "      <th>3</th>\n",
       "      <td>NB</td>\n",
       "      <td>&lt;magellan.matcher.nbmatcher.NBMatcher object a...</td>\n",
       "      <td>5</td>\n",
       "      <td>1.000000</td>\n",
       "      <td>0.954545</td>\n",
       "      <td>0.962963</td>\n",
       "      <td>0.972973</td>\n",
       "      <td>1.000000</td>\n",
       "      <td>0.978096</td>\n",
       "    </tr>\n",
       "    <tr>\n",
       "      <th>4</th>\n",
       "      <td>LogReg</td>\n",
       "      <td>&lt;magellan.matcher.logregmatcher.LogRegMatcher ...</td>\n",
       "      <td>5</td>\n",
       "      <td>0.965517</td>\n",
       "      <td>1.000000</td>\n",
       "      <td>0.962963</td>\n",
       "      <td>0.972973</td>\n",
       "      <td>0.962963</td>\n",
       "      <td>0.972883</td>\n",
       "    </tr>\n",
       "    <tr>\n",
       "      <th>5</th>\n",
       "      <td>LinReg</td>\n",
       "      <td>&lt;magellan.matcher.linregmatcher.LinRegMatcher ...</td>\n",
       "      <td>5</td>\n",
       "      <td>0.965517</td>\n",
       "      <td>0.954545</td>\n",
       "      <td>0.916667</td>\n",
       "      <td>0.944444</td>\n",
       "      <td>1.000000</td>\n",
       "      <td>0.956235</td>\n",
       "    </tr>\n",
       "  </tbody>\n",
       "</table>\n",
       "</div>"
      ],
      "text/plain": [
       "                                Name  \\\n",
       "0  DecisionTree_82108063030395210541   \n",
       "1                                 RF   \n",
       "2           SVM_04604073030395210541   \n",
       "3                                 NB   \n",
       "4                             LogReg   \n",
       "5                             LinReg   \n",
       "\n",
       "                                             Matcher  Num folds    Fold 1  \\\n",
       "0  <magellan.matcher.dtmatcher.DTMatcher object a...          5  0.965517   \n",
       "1  <magellan.matcher.rfmatcher.RFMatcher object a...          5  0.965517   \n",
       "2  <magellan.matcher.svmmatcher.SVMMatcher object...          5  0.235294   \n",
       "3  <magellan.matcher.nbmatcher.NBMatcher object a...          5  1.000000   \n",
       "4  <magellan.matcher.logregmatcher.LogRegMatcher ...          5  0.965517   \n",
       "5  <magellan.matcher.linregmatcher.LinRegMatcher ...          5  0.965517   \n",
       "\n",
       "     Fold 2    Fold 3    Fold 4    Fold 5  Mean score  \n",
       "0  0.956522  1.000000  0.972973  1.000000    0.979002  \n",
       "1  1.000000  1.000000  0.972973  1.000000    0.987698  \n",
       "2  0.240000  0.142857  0.190476  0.000000    0.161725  \n",
       "3  0.954545  0.962963  0.972973  1.000000    0.978096  \n",
       "4  1.000000  0.962963  0.972973  0.962963    0.972883  \n",
       "5  0.954545  0.916667  0.944444  1.000000    0.956235  "
      ]
     },
     "execution_count": 41,
     "metadata": {},
     "output_type": "execute_result"
    }
   ],
   "source": [
    "result['cv_stats']"
   ]
  },
  {
   "cell_type": "code",
   "execution_count": 42,
   "metadata": {
    "collapsed": false
   },
   "outputs": [
    {
     "name": "stderr",
     "output_type": "stream",
     "text": [
      "0%      100%\n",
      "[##########] | ETA[sec]: 0.000 \n",
      "Total time elapsed: 0.351 sec\n"
     ]
    },
    {
     "data": {
      "text/html": [
       "<div>\n",
       "<table border=\"1\" class=\"dataframe\">\n",
       "  <thead>\n",
       "    <tr style=\"text-align: right;\">\n",
       "      <th></th>\n",
       "      <th>Metric</th>\n",
       "      <th>Num folds</th>\n",
       "      <th>Fold 1</th>\n",
       "      <th>Fold 2</th>\n",
       "      <th>Fold 3</th>\n",
       "      <th>Fold 4</th>\n",
       "      <th>Fold 5</th>\n",
       "      <th>Fold 6</th>\n",
       "      <th>Fold 7</th>\n",
       "      <th>Fold 8</th>\n",
       "      <th>Fold 9</th>\n",
       "      <th>Fold 10</th>\n",
       "      <th>Mean score</th>\n",
       "    </tr>\n",
       "  </thead>\n",
       "  <tbody>\n",
       "    <tr>\n",
       "      <th>0</th>\n",
       "      <td>precision</td>\n",
       "      <td>10</td>\n",
       "      <td>1.000000</td>\n",
       "      <td>1</td>\n",
       "      <td>1</td>\n",
       "      <td>1</td>\n",
       "      <td>1</td>\n",
       "      <td>1</td>\n",
       "      <td>1</td>\n",
       "      <td>1</td>\n",
       "      <td>1</td>\n",
       "      <td>0.888889</td>\n",
       "      <td>0.988889</td>\n",
       "    </tr>\n",
       "    <tr>\n",
       "      <th>1</th>\n",
       "      <td>recall</td>\n",
       "      <td>10</td>\n",
       "      <td>0.900000</td>\n",
       "      <td>1</td>\n",
       "      <td>1</td>\n",
       "      <td>1</td>\n",
       "      <td>1</td>\n",
       "      <td>1</td>\n",
       "      <td>1</td>\n",
       "      <td>1</td>\n",
       "      <td>1</td>\n",
       "      <td>1.000000</td>\n",
       "      <td>0.990000</td>\n",
       "    </tr>\n",
       "    <tr>\n",
       "      <th>2</th>\n",
       "      <td>f1</td>\n",
       "      <td>10</td>\n",
       "      <td>0.947368</td>\n",
       "      <td>1</td>\n",
       "      <td>1</td>\n",
       "      <td>1</td>\n",
       "      <td>1</td>\n",
       "      <td>1</td>\n",
       "      <td>1</td>\n",
       "      <td>1</td>\n",
       "      <td>1</td>\n",
       "      <td>0.941176</td>\n",
       "      <td>0.988854</td>\n",
       "    </tr>\n",
       "  </tbody>\n",
       "</table>\n",
       "</div>"
      ],
      "text/plain": [
       "      Metric  Num folds    Fold 1  Fold 2  Fold 3  Fold 4  Fold 5  Fold 6  \\\n",
       "0  precision         10  1.000000       1       1       1       1       1   \n",
       "1     recall         10  0.900000       1       1       1       1       1   \n",
       "2         f1         10  0.947368       1       1       1       1       1   \n",
       "\n",
       "   Fold 7  Fold 8  Fold 9   Fold 10  Mean score  \n",
       "0       1       1       1  0.888889    0.988889  \n",
       "1       1       1       1  1.000000    0.990000  \n",
       "2       1       1       1  0.941176    0.988854  "
      ]
     },
     "execution_count": 42,
     "metadata": {},
     "output_type": "execute_result"
    }
   ],
   "source": [
    "I_test = mg.cv_matcher_and_trigger(rf, [], table = K, \n",
    "                                   exclude_attrs=['_id', 'ltable.id', 'rtable.id', 'gold'],\n",
    "                                  target_attr='gold', k=10)\n",
    "I_test['cv_stats']"
   ]
  },
  {
   "cell_type": "code",
   "execution_count": 117,
   "metadata": {
    "collapsed": true
   },
   "outputs": [],
   "source": [
    "# Split feature vectors to train and test\n",
    "UV = mg.train_test_split(K, train_proportion=0.7, random_state=0)\n",
    "U = UV['train']\n",
    "V = UV['test']"
   ]
  },
  {
   "cell_type": "code",
   "execution_count": 118,
   "metadata": {
    "collapsed": false
   },
   "outputs": [
    {
     "name": "stdout",
     "output_type": "stream",
     "text": [
      "Precision : 100.0% (25/25)\n",
      "Recall : 96.15% (25/26)\n",
      "F1 : 98.04%\n",
      "False positives : 0 (out of 25 positive predictions)\n",
      "False negatives : 1 (out of 69 negative predictions)\n"
     ]
    }
   ],
   "source": [
    "# Train ln using U\n",
    "rf.fit(table=U, \n",
    "       exclude_attrs=['_id', 'ltable._id', 'rtable._id', 'gold'], \n",
    "       target_attr='gold')\n",
    "\n",
    "L = rf.predict(table=V, exclude_attrs=['_id', 'ltable._id', 'rtable._id', 'gold'], \n",
    "              append=True, target_attr='predicted', inplace=False)\n",
    "eval_result = mg.eval_matches(L, 'gold', 'predicted')\n",
    "mg.print_eval_summary(eval_result)"
   ]
  },
  {
   "cell_type": "code",
   "execution_count": 119,
   "metadata": {
    "collapsed": false
   },
   "outputs": [],
   "source": [
    "# Invoke debug interface to check FP and FN\n",
    "mg.vis_debug_rf(rf, U, V, \n",
    "        exclude_attrs=['_id', 'ltable._id', 'rtable._id', 'gold'],\n",
    "        target_attr='gold')"
   ]
  },
  {
   "cell_type": "code",
   "execution_count": 47,
   "metadata": {
    "collapsed": false
   },
   "outputs": [
    {
     "data": {
      "text/html": [
       "<div>\n",
       "<table border=\"1\" class=\"dataframe\">\n",
       "  <thead>\n",
       "    <tr style=\"text-align: right;\">\n",
       "      <th></th>\n",
       "      <th>feature_name</th>\n",
       "      <th>left_attribute</th>\n",
       "      <th>right_attribute</th>\n",
       "      <th>left_attr_tokenizer</th>\n",
       "      <th>right_attr_tokenizer</th>\n",
       "      <th>simfunction</th>\n",
       "      <th>function</th>\n",
       "      <th>function_source</th>\n",
       "    </tr>\n",
       "  </thead>\n",
       "  <tbody>\n",
       "    <tr>\n",
       "      <th>0</th>\n",
       "      <td>_id__id_exm</td>\n",
       "      <td>_id</td>\n",
       "      <td>_id</td>\n",
       "      <td>None</td>\n",
       "      <td>None</td>\n",
       "      <td>exact_match</td>\n",
       "      <td>&lt;function _id__id_exm at 0x7eff1d6759b0&gt;</td>\n",
       "      <td>from magellan.feature.simfunctions import *\\nf...</td>\n",
       "    </tr>\n",
       "    <tr>\n",
       "      <th>1</th>\n",
       "      <td>_id__id_anm</td>\n",
       "      <td>_id</td>\n",
       "      <td>_id</td>\n",
       "      <td>None</td>\n",
       "      <td>None</td>\n",
       "      <td>abs_norm</td>\n",
       "      <td>&lt;function _id__id_anm at 0x7eff1d675de8&gt;</td>\n",
       "      <td>from magellan.feature.simfunctions import *\\nf...</td>\n",
       "    </tr>\n",
       "    <tr>\n",
       "      <th>2</th>\n",
       "      <td>_id__id_lev</td>\n",
       "      <td>_id</td>\n",
       "      <td>_id</td>\n",
       "      <td>None</td>\n",
       "      <td>None</td>\n",
       "      <td>lev</td>\n",
       "      <td>&lt;function _id__id_lev at 0x7eff1d675938&gt;</td>\n",
       "      <td>from magellan.feature.simfunctions import *\\nf...</td>\n",
       "    </tr>\n",
       "    <tr>\n",
       "      <th>3</th>\n",
       "      <td>ID_ID_exm</td>\n",
       "      <td>ID</td>\n",
       "      <td>ID</td>\n",
       "      <td>None</td>\n",
       "      <td>None</td>\n",
       "      <td>exact_match</td>\n",
       "      <td>&lt;function ID_ID_exm at 0x7eff1d675d70&gt;</td>\n",
       "      <td>from magellan.feature.simfunctions import *\\nf...</td>\n",
       "    </tr>\n",
       "    <tr>\n",
       "      <th>4</th>\n",
       "      <td>ID_ID_anm</td>\n",
       "      <td>ID</td>\n",
       "      <td>ID</td>\n",
       "      <td>None</td>\n",
       "      <td>None</td>\n",
       "      <td>abs_norm</td>\n",
       "      <td>&lt;function ID_ID_anm at 0x7eff1d675e60&gt;</td>\n",
       "      <td>from magellan.feature.simfunctions import *\\nf...</td>\n",
       "    </tr>\n",
       "    <tr>\n",
       "      <th>5</th>\n",
       "      <td>ID_ID_lev</td>\n",
       "      <td>ID</td>\n",
       "      <td>ID</td>\n",
       "      <td>None</td>\n",
       "      <td>None</td>\n",
       "      <td>lev</td>\n",
       "      <td>&lt;function ID_ID_lev at 0x7eff1d675ed8&gt;</td>\n",
       "      <td>from magellan.feature.simfunctions import *\\nf...</td>\n",
       "    </tr>\n",
       "    <tr>\n",
       "      <th>6</th>\n",
       "      <td>NAME_NAME_jac_qgm_3_qgm_3</td>\n",
       "      <td>NAME</td>\n",
       "      <td>NAME</td>\n",
       "      <td>qgm_3</td>\n",
       "      <td>qgm_3</td>\n",
       "      <td>jaccard</td>\n",
       "      <td>&lt;function NAME_NAME_jac_qgm_3_qgm_3 at 0x7eff1...</td>\n",
       "      <td>from magellan.feature.simfunctions import *\\nf...</td>\n",
       "    </tr>\n",
       "    <tr>\n",
       "      <th>7</th>\n",
       "      <td>NAME_NAME_cos_dlm_dc0_dlm_dc0</td>\n",
       "      <td>NAME</td>\n",
       "      <td>NAME</td>\n",
       "      <td>dlm_dc0</td>\n",
       "      <td>dlm_dc0</td>\n",
       "      <td>cosine</td>\n",
       "      <td>&lt;function NAME_NAME_cos_dlm_dc0_dlm_dc0 at 0x7...</td>\n",
       "      <td>from magellan.feature.simfunctions import *\\nf...</td>\n",
       "    </tr>\n",
       "    <tr>\n",
       "      <th>8</th>\n",
       "      <td>NAME_NAME_jac_dlm_dc0_dlm_dc0</td>\n",
       "      <td>NAME</td>\n",
       "      <td>NAME</td>\n",
       "      <td>dlm_dc0</td>\n",
       "      <td>dlm_dc0</td>\n",
       "      <td>jaccard</td>\n",
       "      <td>&lt;function NAME_NAME_jac_dlm_dc0_dlm_dc0 at 0x7...</td>\n",
       "      <td>from magellan.feature.simfunctions import *\\nf...</td>\n",
       "    </tr>\n",
       "    <tr>\n",
       "      <th>9</th>\n",
       "      <td>NAME_NAME_mel</td>\n",
       "      <td>NAME</td>\n",
       "      <td>NAME</td>\n",
       "      <td>None</td>\n",
       "      <td>None</td>\n",
       "      <td>monge_elkan</td>\n",
       "      <td>&lt;function NAME_NAME_mel at 0x7eff03a0e140&gt;</td>\n",
       "      <td>from magellan.feature.simfunctions import *\\nf...</td>\n",
       "    </tr>\n",
       "    <tr>\n",
       "      <th>10</th>\n",
       "      <td>NAME_NAME_lev</td>\n",
       "      <td>NAME</td>\n",
       "      <td>NAME</td>\n",
       "      <td>None</td>\n",
       "      <td>None</td>\n",
       "      <td>lev</td>\n",
       "      <td>&lt;function NAME_NAME_lev at 0x7eff03a0e1b8&gt;</td>\n",
       "      <td>from magellan.feature.simfunctions import *\\nf...</td>\n",
       "    </tr>\n",
       "    <tr>\n",
       "      <th>11</th>\n",
       "      <td>NAME_NAME_nmw</td>\n",
       "      <td>NAME</td>\n",
       "      <td>NAME</td>\n",
       "      <td>None</td>\n",
       "      <td>None</td>\n",
       "      <td>needleman_wunsch</td>\n",
       "      <td>&lt;function NAME_NAME_nmw at 0x7eff03a0e230&gt;</td>\n",
       "      <td>from magellan.feature.simfunctions import *\\nf...</td>\n",
       "    </tr>\n",
       "    <tr>\n",
       "      <th>12</th>\n",
       "      <td>NAME_NAME_sw</td>\n",
       "      <td>NAME</td>\n",
       "      <td>NAME</td>\n",
       "      <td>None</td>\n",
       "      <td>None</td>\n",
       "      <td>smith_waterman</td>\n",
       "      <td>&lt;function NAME_NAME_sw at 0x7eff03a0e2a8&gt;</td>\n",
       "      <td>from magellan.feature.simfunctions import *\\nf...</td>\n",
       "    </tr>\n",
       "    <tr>\n",
       "      <th>13</th>\n",
       "      <td>NAME_NAME_swg</td>\n",
       "      <td>NAME</td>\n",
       "      <td>NAME</td>\n",
       "      <td>None</td>\n",
       "      <td>None</td>\n",
       "      <td>smith_waterman_gotoh</td>\n",
       "      <td>&lt;function NAME_NAME_swg at 0x7eff03a0e320&gt;</td>\n",
       "      <td>from magellan.feature.simfunctions import *\\nf...</td>\n",
       "    </tr>\n",
       "    <tr>\n",
       "      <th>14</th>\n",
       "      <td>RATING_RATING_exm</td>\n",
       "      <td>RATING</td>\n",
       "      <td>RATING</td>\n",
       "      <td>None</td>\n",
       "      <td>None</td>\n",
       "      <td>exact_match</td>\n",
       "      <td>&lt;function RATING_RATING_exm at 0x7eff03a0e398&gt;</td>\n",
       "      <td>from magellan.feature.simfunctions import *\\nf...</td>\n",
       "    </tr>\n",
       "    <tr>\n",
       "      <th>15</th>\n",
       "      <td>RATING_RATING_anm</td>\n",
       "      <td>RATING</td>\n",
       "      <td>RATING</td>\n",
       "      <td>None</td>\n",
       "      <td>None</td>\n",
       "      <td>abs_norm</td>\n",
       "      <td>&lt;function RATING_RATING_anm at 0x7eff03a0e410&gt;</td>\n",
       "      <td>from magellan.feature.simfunctions import *\\nf...</td>\n",
       "    </tr>\n",
       "    <tr>\n",
       "      <th>16</th>\n",
       "      <td>RATING_RATING_lev</td>\n",
       "      <td>RATING</td>\n",
       "      <td>RATING</td>\n",
       "      <td>None</td>\n",
       "      <td>None</td>\n",
       "      <td>lev</td>\n",
       "      <td>&lt;function RATING_RATING_lev at 0x7eff03a0e488&gt;</td>\n",
       "      <td>from magellan.feature.simfunctions import *\\nf...</td>\n",
       "    </tr>\n",
       "    <tr>\n",
       "      <th>17</th>\n",
       "      <td>PHONENUMBER_PHONENUMBER_jac_qgm_3_qgm_3</td>\n",
       "      <td>PHONENUMBER</td>\n",
       "      <td>PHONENUMBER</td>\n",
       "      <td>qgm_3</td>\n",
       "      <td>qgm_3</td>\n",
       "      <td>jaccard</td>\n",
       "      <td>&lt;function PHONENUMBER_PHONENUMBER_jac_qgm_3_qg...</td>\n",
       "      <td>from magellan.feature.simfunctions import *\\nf...</td>\n",
       "    </tr>\n",
       "    <tr>\n",
       "      <th>18</th>\n",
       "      <td>PHONENUMBER_PHONENUMBER_cos_dlm_dc0_dlm_dc0</td>\n",
       "      <td>PHONENUMBER</td>\n",
       "      <td>PHONENUMBER</td>\n",
       "      <td>dlm_dc0</td>\n",
       "      <td>dlm_dc0</td>\n",
       "      <td>cosine</td>\n",
       "      <td>&lt;function PHONENUMBER_PHONENUMBER_cos_dlm_dc0_...</td>\n",
       "      <td>from magellan.feature.simfunctions import *\\nf...</td>\n",
       "    </tr>\n",
       "    <tr>\n",
       "      <th>19</th>\n",
       "      <td>PHONENUMBER_PHONENUMBER_jac_dlm_dc0_dlm_dc0</td>\n",
       "      <td>PHONENUMBER</td>\n",
       "      <td>PHONENUMBER</td>\n",
       "      <td>dlm_dc0</td>\n",
       "      <td>dlm_dc0</td>\n",
       "      <td>jaccard</td>\n",
       "      <td>&lt;function PHONENUMBER_PHONENUMBER_jac_dlm_dc0_...</td>\n",
       "      <td>from magellan.feature.simfunctions import *\\nf...</td>\n",
       "    </tr>\n",
       "    <tr>\n",
       "      <th>20</th>\n",
       "      <td>PHONENUMBER_PHONENUMBER_mel</td>\n",
       "      <td>PHONENUMBER</td>\n",
       "      <td>PHONENUMBER</td>\n",
       "      <td>None</td>\n",
       "      <td>None</td>\n",
       "      <td>monge_elkan</td>\n",
       "      <td>&lt;function PHONENUMBER_PHONENUMBER_mel at 0x7ef...</td>\n",
       "      <td>from magellan.feature.simfunctions import *\\nf...</td>\n",
       "    </tr>\n",
       "    <tr>\n",
       "      <th>21</th>\n",
       "      <td>PHONENUMBER_PHONENUMBER_lev</td>\n",
       "      <td>PHONENUMBER</td>\n",
       "      <td>PHONENUMBER</td>\n",
       "      <td>None</td>\n",
       "      <td>None</td>\n",
       "      <td>lev</td>\n",
       "      <td>&lt;function PHONENUMBER_PHONENUMBER_lev at 0x7ef...</td>\n",
       "      <td>from magellan.feature.simfunctions import *\\nf...</td>\n",
       "    </tr>\n",
       "    <tr>\n",
       "      <th>22</th>\n",
       "      <td>PHONENUMBER_PHONENUMBER_nmw</td>\n",
       "      <td>PHONENUMBER</td>\n",
       "      <td>PHONENUMBER</td>\n",
       "      <td>None</td>\n",
       "      <td>None</td>\n",
       "      <td>needleman_wunsch</td>\n",
       "      <td>&lt;function PHONENUMBER_PHONENUMBER_nmw at 0x7ef...</td>\n",
       "      <td>from magellan.feature.simfunctions import *\\nf...</td>\n",
       "    </tr>\n",
       "    <tr>\n",
       "      <th>23</th>\n",
       "      <td>PHONENUMBER_PHONENUMBER_sw</td>\n",
       "      <td>PHONENUMBER</td>\n",
       "      <td>PHONENUMBER</td>\n",
       "      <td>None</td>\n",
       "      <td>None</td>\n",
       "      <td>smith_waterman</td>\n",
       "      <td>&lt;function PHONENUMBER_PHONENUMBER_sw at 0x7eff...</td>\n",
       "      <td>from magellan.feature.simfunctions import *\\nf...</td>\n",
       "    </tr>\n",
       "    <tr>\n",
       "      <th>24</th>\n",
       "      <td>PHONENUMBER_PHONENUMBER_swg</td>\n",
       "      <td>PHONENUMBER</td>\n",
       "      <td>PHONENUMBER</td>\n",
       "      <td>None</td>\n",
       "      <td>None</td>\n",
       "      <td>smith_waterman_gotoh</td>\n",
       "      <td>&lt;function PHONENUMBER_PHONENUMBER_swg at 0x7ef...</td>\n",
       "      <td>from magellan.feature.simfunctions import *\\nf...</td>\n",
       "    </tr>\n",
       "    <tr>\n",
       "      <th>25</th>\n",
       "      <td>NO_OF_REVIEWS_NO_OF_REVIEWS_exm</td>\n",
       "      <td>NO_OF_REVIEWS</td>\n",
       "      <td>NO_OF_REVIEWS</td>\n",
       "      <td>None</td>\n",
       "      <td>None</td>\n",
       "      <td>exact_match</td>\n",
       "      <td>&lt;function NO_OF_REVIEWS_NO_OF_REVIEWS_exm at 0...</td>\n",
       "      <td>from magellan.feature.simfunctions import *\\nf...</td>\n",
       "    </tr>\n",
       "    <tr>\n",
       "      <th>26</th>\n",
       "      <td>NO_OF_REVIEWS_NO_OF_REVIEWS_anm</td>\n",
       "      <td>NO_OF_REVIEWS</td>\n",
       "      <td>NO_OF_REVIEWS</td>\n",
       "      <td>None</td>\n",
       "      <td>None</td>\n",
       "      <td>abs_norm</td>\n",
       "      <td>&lt;function NO_OF_REVIEWS_NO_OF_REVIEWS_anm at 0...</td>\n",
       "      <td>from magellan.feature.simfunctions import *\\nf...</td>\n",
       "    </tr>\n",
       "    <tr>\n",
       "      <th>27</th>\n",
       "      <td>NO_OF_REVIEWS_NO_OF_REVIEWS_lev</td>\n",
       "      <td>NO_OF_REVIEWS</td>\n",
       "      <td>NO_OF_REVIEWS</td>\n",
       "      <td>None</td>\n",
       "      <td>None</td>\n",
       "      <td>lev</td>\n",
       "      <td>&lt;function NO_OF_REVIEWS_NO_OF_REVIEWS_lev at 0...</td>\n",
       "      <td>from magellan.feature.simfunctions import *\\nf...</td>\n",
       "    </tr>\n",
       "    <tr>\n",
       "      <th>28</th>\n",
       "      <td>ADDRESS_ADDRESS_jac_qgm_3_qgm_3</td>\n",
       "      <td>ADDRESS</td>\n",
       "      <td>ADDRESS</td>\n",
       "      <td>qgm_3</td>\n",
       "      <td>qgm_3</td>\n",
       "      <td>jaccard</td>\n",
       "      <td>&lt;function ADDRESS_ADDRESS_jac_qgm_3_qgm_3 at 0...</td>\n",
       "      <td>from magellan.feature.simfunctions import *\\nf...</td>\n",
       "    </tr>\n",
       "    <tr>\n",
       "      <th>29</th>\n",
       "      <td>ADDRESS_ADDRESS_cos_dlm_dc0_dlm_dc0</td>\n",
       "      <td>ADDRESS</td>\n",
       "      <td>ADDRESS</td>\n",
       "      <td>dlm_dc0</td>\n",
       "      <td>dlm_dc0</td>\n",
       "      <td>cosine</td>\n",
       "      <td>&lt;function ADDRESS_ADDRESS_cos_dlm_dc0_dlm_dc0 ...</td>\n",
       "      <td>from magellan.feature.simfunctions import *\\nf...</td>\n",
       "    </tr>\n",
       "    <tr>\n",
       "      <th>30</th>\n",
       "      <td>ADDRESS_ADDRESS_mel</td>\n",
       "      <td>ADDRESS</td>\n",
       "      <td>ADDRESS</td>\n",
       "      <td>None</td>\n",
       "      <td>None</td>\n",
       "      <td>monge_elkan</td>\n",
       "      <td>&lt;function ADDRESS_ADDRESS_mel at 0x7eff03a0eb18&gt;</td>\n",
       "      <td>from magellan.feature.simfunctions import *\\nf...</td>\n",
       "    </tr>\n",
       "    <tr>\n",
       "      <th>31</th>\n",
       "      <td>ADDRESS_ADDRESS_lev</td>\n",
       "      <td>ADDRESS</td>\n",
       "      <td>ADDRESS</td>\n",
       "      <td>None</td>\n",
       "      <td>None</td>\n",
       "      <td>lev</td>\n",
       "      <td>&lt;function ADDRESS_ADDRESS_lev at 0x7eff03a0eb90&gt;</td>\n",
       "      <td>from magellan.feature.simfunctions import *\\nf...</td>\n",
       "    </tr>\n",
       "  </tbody>\n",
       "</table>\n",
       "</div>"
      ],
      "text/plain": [
       "                                   feature_name left_attribute  \\\n",
       "0                                   _id__id_exm            _id   \n",
       "1                                   _id__id_anm            _id   \n",
       "2                                   _id__id_lev            _id   \n",
       "3                                     ID_ID_exm             ID   \n",
       "4                                     ID_ID_anm             ID   \n",
       "5                                     ID_ID_lev             ID   \n",
       "6                     NAME_NAME_jac_qgm_3_qgm_3           NAME   \n",
       "7                 NAME_NAME_cos_dlm_dc0_dlm_dc0           NAME   \n",
       "8                 NAME_NAME_jac_dlm_dc0_dlm_dc0           NAME   \n",
       "9                                 NAME_NAME_mel           NAME   \n",
       "10                                NAME_NAME_lev           NAME   \n",
       "11                                NAME_NAME_nmw           NAME   \n",
       "12                                 NAME_NAME_sw           NAME   \n",
       "13                                NAME_NAME_swg           NAME   \n",
       "14                            RATING_RATING_exm         RATING   \n",
       "15                            RATING_RATING_anm         RATING   \n",
       "16                            RATING_RATING_lev         RATING   \n",
       "17      PHONENUMBER_PHONENUMBER_jac_qgm_3_qgm_3    PHONENUMBER   \n",
       "18  PHONENUMBER_PHONENUMBER_cos_dlm_dc0_dlm_dc0    PHONENUMBER   \n",
       "19  PHONENUMBER_PHONENUMBER_jac_dlm_dc0_dlm_dc0    PHONENUMBER   \n",
       "20                  PHONENUMBER_PHONENUMBER_mel    PHONENUMBER   \n",
       "21                  PHONENUMBER_PHONENUMBER_lev    PHONENUMBER   \n",
       "22                  PHONENUMBER_PHONENUMBER_nmw    PHONENUMBER   \n",
       "23                   PHONENUMBER_PHONENUMBER_sw    PHONENUMBER   \n",
       "24                  PHONENUMBER_PHONENUMBER_swg    PHONENUMBER   \n",
       "25              NO_OF_REVIEWS_NO_OF_REVIEWS_exm  NO_OF_REVIEWS   \n",
       "26              NO_OF_REVIEWS_NO_OF_REVIEWS_anm  NO_OF_REVIEWS   \n",
       "27              NO_OF_REVIEWS_NO_OF_REVIEWS_lev  NO_OF_REVIEWS   \n",
       "28              ADDRESS_ADDRESS_jac_qgm_3_qgm_3        ADDRESS   \n",
       "29          ADDRESS_ADDRESS_cos_dlm_dc0_dlm_dc0        ADDRESS   \n",
       "30                          ADDRESS_ADDRESS_mel        ADDRESS   \n",
       "31                          ADDRESS_ADDRESS_lev        ADDRESS   \n",
       "\n",
       "   right_attribute left_attr_tokenizer right_attr_tokenizer  \\\n",
       "0              _id                None                 None   \n",
       "1              _id                None                 None   \n",
       "2              _id                None                 None   \n",
       "3               ID                None                 None   \n",
       "4               ID                None                 None   \n",
       "5               ID                None                 None   \n",
       "6             NAME               qgm_3                qgm_3   \n",
       "7             NAME             dlm_dc0              dlm_dc0   \n",
       "8             NAME             dlm_dc0              dlm_dc0   \n",
       "9             NAME                None                 None   \n",
       "10            NAME                None                 None   \n",
       "11            NAME                None                 None   \n",
       "12            NAME                None                 None   \n",
       "13            NAME                None                 None   \n",
       "14          RATING                None                 None   \n",
       "15          RATING                None                 None   \n",
       "16          RATING                None                 None   \n",
       "17     PHONENUMBER               qgm_3                qgm_3   \n",
       "18     PHONENUMBER             dlm_dc0              dlm_dc0   \n",
       "19     PHONENUMBER             dlm_dc0              dlm_dc0   \n",
       "20     PHONENUMBER                None                 None   \n",
       "21     PHONENUMBER                None                 None   \n",
       "22     PHONENUMBER                None                 None   \n",
       "23     PHONENUMBER                None                 None   \n",
       "24     PHONENUMBER                None                 None   \n",
       "25   NO_OF_REVIEWS                None                 None   \n",
       "26   NO_OF_REVIEWS                None                 None   \n",
       "27   NO_OF_REVIEWS                None                 None   \n",
       "28         ADDRESS               qgm_3                qgm_3   \n",
       "29         ADDRESS             dlm_dc0              dlm_dc0   \n",
       "30         ADDRESS                None                 None   \n",
       "31         ADDRESS                None                 None   \n",
       "\n",
       "             simfunction                                           function  \\\n",
       "0            exact_match           <function _id__id_exm at 0x7eff1d6759b0>   \n",
       "1               abs_norm           <function _id__id_anm at 0x7eff1d675de8>   \n",
       "2                    lev           <function _id__id_lev at 0x7eff1d675938>   \n",
       "3            exact_match             <function ID_ID_exm at 0x7eff1d675d70>   \n",
       "4               abs_norm             <function ID_ID_anm at 0x7eff1d675e60>   \n",
       "5                    lev             <function ID_ID_lev at 0x7eff1d675ed8>   \n",
       "6                jaccard  <function NAME_NAME_jac_qgm_3_qgm_3 at 0x7eff1...   \n",
       "7                 cosine  <function NAME_NAME_cos_dlm_dc0_dlm_dc0 at 0x7...   \n",
       "8                jaccard  <function NAME_NAME_jac_dlm_dc0_dlm_dc0 at 0x7...   \n",
       "9            monge_elkan         <function NAME_NAME_mel at 0x7eff03a0e140>   \n",
       "10                   lev         <function NAME_NAME_lev at 0x7eff03a0e1b8>   \n",
       "11      needleman_wunsch         <function NAME_NAME_nmw at 0x7eff03a0e230>   \n",
       "12        smith_waterman          <function NAME_NAME_sw at 0x7eff03a0e2a8>   \n",
       "13  smith_waterman_gotoh         <function NAME_NAME_swg at 0x7eff03a0e320>   \n",
       "14           exact_match     <function RATING_RATING_exm at 0x7eff03a0e398>   \n",
       "15              abs_norm     <function RATING_RATING_anm at 0x7eff03a0e410>   \n",
       "16                   lev     <function RATING_RATING_lev at 0x7eff03a0e488>   \n",
       "17               jaccard  <function PHONENUMBER_PHONENUMBER_jac_qgm_3_qg...   \n",
       "18                cosine  <function PHONENUMBER_PHONENUMBER_cos_dlm_dc0_...   \n",
       "19               jaccard  <function PHONENUMBER_PHONENUMBER_jac_dlm_dc0_...   \n",
       "20           monge_elkan  <function PHONENUMBER_PHONENUMBER_mel at 0x7ef...   \n",
       "21                   lev  <function PHONENUMBER_PHONENUMBER_lev at 0x7ef...   \n",
       "22      needleman_wunsch  <function PHONENUMBER_PHONENUMBER_nmw at 0x7ef...   \n",
       "23        smith_waterman  <function PHONENUMBER_PHONENUMBER_sw at 0x7eff...   \n",
       "24  smith_waterman_gotoh  <function PHONENUMBER_PHONENUMBER_swg at 0x7ef...   \n",
       "25           exact_match  <function NO_OF_REVIEWS_NO_OF_REVIEWS_exm at 0...   \n",
       "26              abs_norm  <function NO_OF_REVIEWS_NO_OF_REVIEWS_anm at 0...   \n",
       "27                   lev  <function NO_OF_REVIEWS_NO_OF_REVIEWS_lev at 0...   \n",
       "28               jaccard  <function ADDRESS_ADDRESS_jac_qgm_3_qgm_3 at 0...   \n",
       "29                cosine  <function ADDRESS_ADDRESS_cos_dlm_dc0_dlm_dc0 ...   \n",
       "30           monge_elkan   <function ADDRESS_ADDRESS_mel at 0x7eff03a0eb18>   \n",
       "31                   lev   <function ADDRESS_ADDRESS_lev at 0x7eff03a0eb90>   \n",
       "\n",
       "                                      function_source  \n",
       "0   from magellan.feature.simfunctions import *\\nf...  \n",
       "1   from magellan.feature.simfunctions import *\\nf...  \n",
       "2   from magellan.feature.simfunctions import *\\nf...  \n",
       "3   from magellan.feature.simfunctions import *\\nf...  \n",
       "4   from magellan.feature.simfunctions import *\\nf...  \n",
       "5   from magellan.feature.simfunctions import *\\nf...  \n",
       "6   from magellan.feature.simfunctions import *\\nf...  \n",
       "7   from magellan.feature.simfunctions import *\\nf...  \n",
       "8   from magellan.feature.simfunctions import *\\nf...  \n",
       "9   from magellan.feature.simfunctions import *\\nf...  \n",
       "10  from magellan.feature.simfunctions import *\\nf...  \n",
       "11  from magellan.feature.simfunctions import *\\nf...  \n",
       "12  from magellan.feature.simfunctions import *\\nf...  \n",
       "13  from magellan.feature.simfunctions import *\\nf...  \n",
       "14  from magellan.feature.simfunctions import *\\nf...  \n",
       "15  from magellan.feature.simfunctions import *\\nf...  \n",
       "16  from magellan.feature.simfunctions import *\\nf...  \n",
       "17  from magellan.feature.simfunctions import *\\nf...  \n",
       "18  from magellan.feature.simfunctions import *\\nf...  \n",
       "19  from magellan.feature.simfunctions import *\\nf...  \n",
       "20  from magellan.feature.simfunctions import *\\nf...  \n",
       "21  from magellan.feature.simfunctions import *\\nf...  \n",
       "22  from magellan.feature.simfunctions import *\\nf...  \n",
       "23  from magellan.feature.simfunctions import *\\nf...  \n",
       "24  from magellan.feature.simfunctions import *\\nf...  \n",
       "25  from magellan.feature.simfunctions import *\\nf...  \n",
       "26  from magellan.feature.simfunctions import *\\nf...  \n",
       "27  from magellan.feature.simfunctions import *\\nf...  \n",
       "28  from magellan.feature.simfunctions import *\\nf...  \n",
       "29  from magellan.feature.simfunctions import *\\nf...  \n",
       "30  from magellan.feature.simfunctions import *\\nf...  \n",
       "31  from magellan.feature.simfunctions import *\\nf...  "
      ]
     },
     "execution_count": 47,
     "metadata": {},
     "output_type": "execute_result"
    }
   ],
   "source": [
    "feat_table"
   ]
  },
  {
   "cell_type": "code",
   "execution_count": 48,
   "metadata": {
    "collapsed": false
   },
   "outputs": [
    {
     "data": {
      "text/plain": [
       "32"
      ]
     },
     "execution_count": 48,
     "metadata": {},
     "output_type": "execute_result"
    }
   ],
   "source": [
    "len(feat_table)"
   ]
  },
  {
   "cell_type": "code",
   "execution_count": 51,
   "metadata": {
    "collapsed": false
   },
   "outputs": [
    {
     "data": {
      "text/plain": [
       "True"
      ]
     },
     "execution_count": 51,
     "metadata": {},
     "output_type": "execute_result"
    }
   ],
   "source": [
    "#Add trigger - target false negative: use title related feature\n",
    "neg_trigger = mg.MatchTrigger()\n",
    "#neg_trigger_phone.add_cond_rule('PHONENUMBER_PHONENUMBER_jac_qgm_3_qgm_3(ltuple, rtuple) != 1.0',feat_table)\n",
    "#neg_trigger.add_cond_rule(['PHONENUMBER_PHONENUMBER_jac_qgm_3_qgm_3(ltuple, rtuple) != 1.0','NAME_NAME_mel(ltuple, rtuple) < 0.8','ADDRESS_ADDRESS_jac_qgm_3_qgm_3(ltuple, rtuple) < 0.1'],feat_table)\n",
    "neg_trigger.add_cond_rule('NAME_NAME_mel(ltuple, rtuple) > 0.85',feat_table)\n",
    "neg_trigger.add_cond_rule('ADDRESS_ADDRESS_mel(ltuple, rtuple) > 0.9',feat_table)\n",
    "#neg_trigger.add_cond_rule('ADDRESS_ADDRESS_jac_qgm_3_qgm_3(ltuple, rtuple) < 0.5',feat_table)\n",
    "#neg_trigger_phone.add_cond_rule('NAME_NAME_jac_qgm_3_qgm_3(ltuple,rtuple)!=1.0',feat_table)\n",
    "neg_trigger.add_cond_status(False)\n",
    "neg_trigger.add_action(0)"
   ]
  },
  {
   "cell_type": "code",
   "execution_count": 68,
   "metadata": {
    "collapsed": false
   },
   "outputs": [
    {
     "data": {
      "text/plain": [
       "True"
      ]
     },
     "execution_count": 68,
     "metadata": {},
     "output_type": "execute_result"
    }
   ],
   "source": [
    "#neg_trigger_name = mg.MatchTrigger()\n",
    "#neg_trigger.add_cond_rule(['PHONENUMBER_PHONENUMBER_jac_qgm_3_qgm_3(ltuple, rtuple) != 1.0','NAME_NAME_mel(ltuple, rtuple) < 0.8','ADDRESS_ADDRESS_jac_qgm_3_qgm_3(ltuple, rtuple) < 0.1'],feat_table)\n",
    "#neg_trigger_name.add_cond_rule('NAME_NAME_jac_qgm_3_qgm_3(ltuple, rtuple)>0.9',feat_table)\n",
    "#neg_trigger.add_cond_rule('ADDRESS_ADDRESS_jac_qgm_3_qgm_3(ltuple, rtuple) < 0.5',feat_table)\n",
    "#neg_trigger_name.add_cond_status(True)\n",
    "#neg_trigger_name.add_action(0)"
   ]
  },
  {
   "cell_type": "code",
   "execution_count": 86,
   "metadata": {
    "collapsed": false
   },
   "outputs": [
    {
     "data": {
      "text/plain": [
       "True"
      ]
     },
     "execution_count": 86,
     "metadata": {},
     "output_type": "execute_result"
    }
   ],
   "source": [
    "#neg_trigger_address = mg.MatchTrigger()\n",
    "#neg_trigger.add_cond_rule(['PHONENUMBER_PHONENUMBER_jac_qgm_3_qgm_3(ltuple, rtuple) != 1.0','NAME_NAME_mel(ltuple, rtuple) < 0.8','ADDRESS_ADDRESS_jac_qgm_3_qgm_3(ltuple, rtuple) < 0.1'],feat_table)\n",
    "#neg_trigger_address.add_cond_rule('NAME_NAME_lev(ltuple, rtuple) > 0.85',feat_table)\n",
    "#neg_trigger_address.add_cond_rule('ADDRESS_ADDRESS_mel(ltuple, rtuple) < 0.9',feat_table)\n",
    "#neg_trigger_address.add_cond_status(True)\n",
    "#neg_trigger_address.add_action(0)"
   ]
  },
  {
   "cell_type": "code",
   "execution_count": 52,
   "metadata": {
    "collapsed": false
   },
   "outputs": [],
   "source": [
    "# Apply trigger\n",
    "Q = neg_trigger.execute(L, 'predicted', inplace=False)\n",
    "#S = neg_trigger_address.execute(Q,'predicted', inplace = False)\n",
    "#R = neg_trigger_name.execute(Q, 'predicted', inplace=False)"
   ]
  },
  {
   "cell_type": "code",
   "execution_count": 53,
   "metadata": {
    "collapsed": false
   },
   "outputs": [
    {
     "name": "stdout",
     "output_type": "stream",
     "text": [
      "Precision : 100.0% (23/23)\n",
      "Recall : 88.46% (23/26)\n",
      "F1 : 93.88%\n",
      "False positives : 0 (out of 23 positive predictions)\n",
      "False negatives : 3 (out of 71 negative predictions)\n"
     ]
    }
   ],
   "source": [
    "# Evaluate the result\n",
    "eval_result = mg.eval_matches(Q, 'gold', 'predicted')\n",
    "mg.print_eval_summary(eval_result)"
   ]
  },
  {
   "cell_type": "code",
   "execution_count": 123,
   "metadata": {
    "collapsed": false
   },
   "outputs": [
    {
     "data": {
      "text/plain": [
       "True"
      ]
     },
     "execution_count": 123,
     "metadata": {},
     "output_type": "execute_result"
    }
   ],
   "source": [
    "Q.to_csv(\"Result_After_Trigger.csv\")"
   ]
  },
  {
   "cell_type": "code",
   "execution_count": 111,
   "metadata": {
    "collapsed": false
   },
   "outputs": [
    {
     "name": "stderr",
     "output_type": "stream",
     "text": [
      "0%      100%\n",
      "[##########] | ETA[sec]: 0.000 \n",
      "Total time elapsed: 0.602 sec\n"
     ]
    },
    {
     "data": {
      "text/html": [
       "<div>\n",
       "<table border=\"1\" class=\"dataframe\">\n",
       "  <thead>\n",
       "    <tr style=\"text-align: right;\">\n",
       "      <th></th>\n",
       "      <th>Metric</th>\n",
       "      <th>Num folds</th>\n",
       "      <th>Fold 1</th>\n",
       "      <th>Fold 2</th>\n",
       "      <th>Fold 3</th>\n",
       "      <th>Fold 4</th>\n",
       "      <th>Fold 5</th>\n",
       "      <th>Fold 6</th>\n",
       "      <th>Fold 7</th>\n",
       "      <th>Fold 8</th>\n",
       "      <th>Fold 9</th>\n",
       "      <th>Fold 10</th>\n",
       "      <th>Mean score</th>\n",
       "    </tr>\n",
       "  </thead>\n",
       "  <tbody>\n",
       "    <tr>\n",
       "      <th>0</th>\n",
       "      <td>precision</td>\n",
       "      <td>10</td>\n",
       "      <td>1</td>\n",
       "      <td>1.000000</td>\n",
       "      <td>1</td>\n",
       "      <td>1</td>\n",
       "      <td>1</td>\n",
       "      <td>1</td>\n",
       "      <td>1</td>\n",
       "      <td>1.000000</td>\n",
       "      <td>1.000000</td>\n",
       "      <td>1</td>\n",
       "      <td>1.000000</td>\n",
       "    </tr>\n",
       "    <tr>\n",
       "      <th>1</th>\n",
       "      <td>recall</td>\n",
       "      <td>10</td>\n",
       "      <td>1</td>\n",
       "      <td>0.916667</td>\n",
       "      <td>1</td>\n",
       "      <td>1</td>\n",
       "      <td>1</td>\n",
       "      <td>1</td>\n",
       "      <td>1</td>\n",
       "      <td>0.666667</td>\n",
       "      <td>0.857143</td>\n",
       "      <td>1</td>\n",
       "      <td>0.944048</td>\n",
       "    </tr>\n",
       "    <tr>\n",
       "      <th>2</th>\n",
       "      <td>f1</td>\n",
       "      <td>10</td>\n",
       "      <td>1</td>\n",
       "      <td>0.956522</td>\n",
       "      <td>1</td>\n",
       "      <td>1</td>\n",
       "      <td>1</td>\n",
       "      <td>1</td>\n",
       "      <td>1</td>\n",
       "      <td>0.800000</td>\n",
       "      <td>0.923077</td>\n",
       "      <td>1</td>\n",
       "      <td>0.967960</td>\n",
       "    </tr>\n",
       "  </tbody>\n",
       "</table>\n",
       "</div>"
      ],
      "text/plain": [
       "      Metric  Num folds  Fold 1    Fold 2  Fold 3  Fold 4  Fold 5  Fold 6  \\\n",
       "0  precision         10       1  1.000000       1       1       1       1   \n",
       "1     recall         10       1  0.916667       1       1       1       1   \n",
       "2         f1         10       1  0.956522       1       1       1       1   \n",
       "\n",
       "   Fold 7    Fold 8    Fold 9  Fold 10  Mean score  \n",
       "0       1  1.000000  1.000000        1    1.000000  \n",
       "1       1  0.666667  0.857143        1    0.944048  \n",
       "2       1  0.800000  0.923077        1    0.967960  "
      ]
     },
     "execution_count": 111,
     "metadata": {},
     "output_type": "execute_result"
    }
   ],
   "source": [
    "I_test = mg.cv_matcher_and_trigger(rf, [neg_trigger], table = K, \n",
    "                                   exclude_attrs=['_id', 'ltable.id', 'rtable.id', 'gold'],\n",
    "                                  target_attr='gold', k=10)\n",
    "I_test['cv_stats']"
   ]
  },
  {
   "cell_type": "code",
   "execution_count": 56,
   "metadata": {
    "collapsed": true
   },
   "outputs": [],
   "source": [
    "# Split feature vectors to train and test\n",
    "UV = mg.train_test_split(K, train_proportion=0.5, random_state=0)\n",
    "U = UV['train']\n",
    "V = UV['test']"
   ]
  },
  {
   "cell_type": "code",
   "execution_count": 57,
   "metadata": {
    "collapsed": false
   },
   "outputs": [
    {
     "name": "stdout",
     "output_type": "stream",
     "text": [
      "Precision : 100.0% (44/44)\n",
      "Recall : 97.78% (44/45)\n",
      "F1 : 98.88%\n",
      "False positives : 0 (out of 44 positive predictions)\n",
      "False negatives : 1 (out of 113 negative predictions)\n"
     ]
    }
   ],
   "source": [
    "# Train ln using U\n",
    "rf.fit(table=U, \n",
    "       exclude_attrs=['_id', 'ltable._id', 'rtable._id', 'gold'], \n",
    "       target_attr='gold')\n",
    "\n",
    "L = rf.predict(table=V, exclude_attrs=['_id', 'ltable._id', 'rtable._id', 'gold'], \n",
    "              append=True, target_attr='predicted', inplace=False)\n",
    "eval_result = mg.eval_matches(L, 'gold', 'predicted')\n",
    "mg.print_eval_summary(eval_result)"
   ]
  },
  {
   "cell_type": "code",
   "execution_count": 58,
   "metadata": {
    "collapsed": true
   },
   "outputs": [],
   "source": [
    "# Invoke debug interface to check FP and FN\n",
    "mg.vis_debug_rf(rf, U, V, \n",
    "        exclude_attrs=['_id', 'ltable._id', 'rtable._id', 'gold'],\n",
    "        target_attr='gold')"
   ]
  },
  {
   "cell_type": "code",
   "execution_count": 60,
   "metadata": {
    "collapsed": false
   },
   "outputs": [
    {
     "data": {
      "text/plain": [
       "12"
      ]
     },
     "execution_count": 60,
     "metadata": {},
     "output_type": "execute_result"
    }
   ],
   "source": [
    "feat_subset_iter1 = feat_table[6:9]\n",
    "feat_subset_iter5 = feat_table[10:11]\n",
    "feat_subset_iter2 = feat_table[20:25]\n",
    "feat_subset_iter3 = feat_table[28:30]\n",
    "feat_subset_iter4 = feat_table[31:]\n",
    "feat_subset_concat = pd.concat([feat_subset_iter1, feat_subset_iter5, feat_subset_iter2, feat_subset_iter3,feat_subset_iter4])\n",
    "len(feat_subset_concat)"
   ]
  },
  {
   "cell_type": "code",
   "execution_count": 62,
   "metadata": {
    "collapsed": true
   },
   "outputs": [],
   "source": [
    "#Write new Feature Set to csv file\n",
    "feat_subset_concat.to_csv('NewFeatureSet.csv')"
   ]
  },
  {
   "cell_type": "code",
   "execution_count": 75,
   "metadata": {
    "collapsed": false
   },
   "outputs": [
    {
     "data": {
      "text/plain": [
       "<magellan.matcher.logregmatcher.LogRegMatcher at 0x7eff03a03510>"
      ]
     },
     "execution_count": 75,
     "metadata": {},
     "output_type": "execute_result"
    }
   ],
   "source": [
    "# Get feature vectors\n",
    "K_feat = mg.extract_feature_vecs(I, feature_table=feat_subset_concat, attrs_after='gold')\n",
    "K_feat.fillna(0, inplace=True)\n",
    "\n",
    "result = mg.select_matcher([dt, rf, svm, nb, lg, ln], table=K_feat, \n",
    "        exclude_attrs=['_id', 'ltable.id', 'rtable.id', 'gold'],\n",
    "        target_attr='gold', metric='precision', random_state=0) \n",
    "result['selected_matcher']"
   ]
  },
  {
   "cell_type": "code",
   "execution_count": 76,
   "metadata": {
    "collapsed": false
   },
   "outputs": [
    {
     "data": {
      "text/html": [
       "<div>\n",
       "<table border=\"1\" class=\"dataframe\">\n",
       "  <thead>\n",
       "    <tr style=\"text-align: right;\">\n",
       "      <th></th>\n",
       "      <th>Name</th>\n",
       "      <th>Matcher</th>\n",
       "      <th>Num folds</th>\n",
       "      <th>Fold 1</th>\n",
       "      <th>Fold 2</th>\n",
       "      <th>Fold 3</th>\n",
       "      <th>Fold 4</th>\n",
       "      <th>Fold 5</th>\n",
       "      <th>Mean score</th>\n",
       "    </tr>\n",
       "  </thead>\n",
       "  <tbody>\n",
       "    <tr>\n",
       "      <th>0</th>\n",
       "      <td>DecisionTree_82108063030395210541</td>\n",
       "      <td>&lt;magellan.matcher.dtmatcher.DTMatcher object a...</td>\n",
       "      <td>5</td>\n",
       "      <td>1</td>\n",
       "      <td>0.956522</td>\n",
       "      <td>0.923077</td>\n",
       "      <td>1.00</td>\n",
       "      <td>1</td>\n",
       "      <td>0.975920</td>\n",
       "    </tr>\n",
       "    <tr>\n",
       "      <th>1</th>\n",
       "      <td>RF</td>\n",
       "      <td>&lt;magellan.matcher.rfmatcher.RFMatcher object a...</td>\n",
       "      <td>5</td>\n",
       "      <td>1</td>\n",
       "      <td>0.916667</td>\n",
       "      <td>0.928571</td>\n",
       "      <td>1.00</td>\n",
       "      <td>1</td>\n",
       "      <td>0.969048</td>\n",
       "    </tr>\n",
       "    <tr>\n",
       "      <th>2</th>\n",
       "      <td>SVM_04604073030395210541</td>\n",
       "      <td>&lt;magellan.matcher.svmmatcher.SVMMatcher object...</td>\n",
       "      <td>5</td>\n",
       "      <td>1</td>\n",
       "      <td>1.000000</td>\n",
       "      <td>1.000000</td>\n",
       "      <td>1.00</td>\n",
       "      <td>0</td>\n",
       "      <td>0.800000</td>\n",
       "    </tr>\n",
       "    <tr>\n",
       "      <th>3</th>\n",
       "      <td>NB</td>\n",
       "      <td>&lt;magellan.matcher.nbmatcher.NBMatcher object a...</td>\n",
       "      <td>5</td>\n",
       "      <td>1</td>\n",
       "      <td>0.916667</td>\n",
       "      <td>0.928571</td>\n",
       "      <td>0.95</td>\n",
       "      <td>1</td>\n",
       "      <td>0.959048</td>\n",
       "    </tr>\n",
       "    <tr>\n",
       "      <th>4</th>\n",
       "      <td>LogReg</td>\n",
       "      <td>&lt;magellan.matcher.logregmatcher.LogRegMatcher ...</td>\n",
       "      <td>5</td>\n",
       "      <td>1</td>\n",
       "      <td>1.000000</td>\n",
       "      <td>0.928571</td>\n",
       "      <td>1.00</td>\n",
       "      <td>1</td>\n",
       "      <td>0.985714</td>\n",
       "    </tr>\n",
       "    <tr>\n",
       "      <th>5</th>\n",
       "      <td>LinReg</td>\n",
       "      <td>&lt;magellan.matcher.linregmatcher.LinRegMatcher ...</td>\n",
       "      <td>5</td>\n",
       "      <td>1</td>\n",
       "      <td>0.916667</td>\n",
       "      <td>0.866667</td>\n",
       "      <td>1.00</td>\n",
       "      <td>1</td>\n",
       "      <td>0.956667</td>\n",
       "    </tr>\n",
       "  </tbody>\n",
       "</table>\n",
       "</div>"
      ],
      "text/plain": [
       "                                Name  \\\n",
       "0  DecisionTree_82108063030395210541   \n",
       "1                                 RF   \n",
       "2           SVM_04604073030395210541   \n",
       "3                                 NB   \n",
       "4                             LogReg   \n",
       "5                             LinReg   \n",
       "\n",
       "                                             Matcher  Num folds  Fold 1  \\\n",
       "0  <magellan.matcher.dtmatcher.DTMatcher object a...          5       1   \n",
       "1  <magellan.matcher.rfmatcher.RFMatcher object a...          5       1   \n",
       "2  <magellan.matcher.svmmatcher.SVMMatcher object...          5       1   \n",
       "3  <magellan.matcher.nbmatcher.NBMatcher object a...          5       1   \n",
       "4  <magellan.matcher.logregmatcher.LogRegMatcher ...          5       1   \n",
       "5  <magellan.matcher.linregmatcher.LinRegMatcher ...          5       1   \n",
       "\n",
       "     Fold 2    Fold 3  Fold 4  Fold 5  Mean score  \n",
       "0  0.956522  0.923077    1.00       1    0.975920  \n",
       "1  0.916667  0.928571    1.00       1    0.969048  \n",
       "2  1.000000  1.000000    1.00       0    0.800000  \n",
       "3  0.916667  0.928571    0.95       1    0.959048  \n",
       "4  1.000000  0.928571    1.00       1    0.985714  \n",
       "5  0.916667  0.866667    1.00       1    0.956667  "
      ]
     },
     "execution_count": 76,
     "metadata": {},
     "output_type": "execute_result"
    }
   ],
   "source": [
    "result['cv_stats']"
   ]
  },
  {
   "cell_type": "code",
   "execution_count": 77,
   "metadata": {
    "collapsed": false
   },
   "outputs": [
    {
     "data": {
      "text/plain": [
       "<magellan.matcher.nbmatcher.NBMatcher at 0x7eff03a03410>"
      ]
     },
     "execution_count": 77,
     "metadata": {},
     "output_type": "execute_result"
    }
   ],
   "source": [
    "result = mg.select_matcher([dt, rf, svm, nb, lg, ln], table=K_feat, \n",
    "        exclude_attrs=['_id', 'ltable.id', 'rtable.id', 'gold'],\n",
    "        target_attr='gold', metric='recall', random_state=0) \n",
    "result['selected_matcher']"
   ]
  },
  {
   "cell_type": "code",
   "execution_count": 78,
   "metadata": {
    "collapsed": false
   },
   "outputs": [
    {
     "data": {
      "text/html": [
       "<div>\n",
       "<table border=\"1\" class=\"dataframe\">\n",
       "  <thead>\n",
       "    <tr style=\"text-align: right;\">\n",
       "      <th></th>\n",
       "      <th>Name</th>\n",
       "      <th>Matcher</th>\n",
       "      <th>Num folds</th>\n",
       "      <th>Fold 1</th>\n",
       "      <th>Fold 2</th>\n",
       "      <th>Fold 3</th>\n",
       "      <th>Fold 4</th>\n",
       "      <th>Fold 5</th>\n",
       "      <th>Mean score</th>\n",
       "    </tr>\n",
       "  </thead>\n",
       "  <tbody>\n",
       "    <tr>\n",
       "      <th>0</th>\n",
       "      <td>DecisionTree_82108063030395210541</td>\n",
       "      <td>&lt;magellan.matcher.dtmatcher.DTMatcher object a...</td>\n",
       "      <td>5</td>\n",
       "      <td>1.000000</td>\n",
       "      <td>0.954545</td>\n",
       "      <td>0.923077</td>\n",
       "      <td>0.947368</td>\n",
       "      <td>1.000000</td>\n",
       "      <td>0.964998</td>\n",
       "    </tr>\n",
       "    <tr>\n",
       "      <th>1</th>\n",
       "      <td>RF</td>\n",
       "      <td>&lt;magellan.matcher.rfmatcher.RFMatcher object a...</td>\n",
       "      <td>5</td>\n",
       "      <td>0.933333</td>\n",
       "      <td>1.000000</td>\n",
       "      <td>1.000000</td>\n",
       "      <td>0.894737</td>\n",
       "      <td>1.000000</td>\n",
       "      <td>0.965614</td>\n",
       "    </tr>\n",
       "    <tr>\n",
       "      <th>2</th>\n",
       "      <td>SVM_04604073030395210541</td>\n",
       "      <td>&lt;magellan.matcher.svmmatcher.SVMMatcher object...</td>\n",
       "      <td>5</td>\n",
       "      <td>0.133333</td>\n",
       "      <td>0.090909</td>\n",
       "      <td>0.076923</td>\n",
       "      <td>0.052632</td>\n",
       "      <td>0.000000</td>\n",
       "      <td>0.070759</td>\n",
       "    </tr>\n",
       "    <tr>\n",
       "      <th>3</th>\n",
       "      <td>NB</td>\n",
       "      <td>&lt;magellan.matcher.nbmatcher.NBMatcher object a...</td>\n",
       "      <td>5</td>\n",
       "      <td>1.000000</td>\n",
       "      <td>1.000000</td>\n",
       "      <td>1.000000</td>\n",
       "      <td>1.000000</td>\n",
       "      <td>1.000000</td>\n",
       "      <td>1.000000</td>\n",
       "    </tr>\n",
       "    <tr>\n",
       "      <th>4</th>\n",
       "      <td>LogReg</td>\n",
       "      <td>&lt;magellan.matcher.logregmatcher.LogRegMatcher ...</td>\n",
       "      <td>5</td>\n",
       "      <td>0.933333</td>\n",
       "      <td>0.909091</td>\n",
       "      <td>1.000000</td>\n",
       "      <td>0.894737</td>\n",
       "      <td>0.785714</td>\n",
       "      <td>0.904575</td>\n",
       "    </tr>\n",
       "    <tr>\n",
       "      <th>5</th>\n",
       "      <td>LinReg</td>\n",
       "      <td>&lt;magellan.matcher.linregmatcher.LinRegMatcher ...</td>\n",
       "      <td>5</td>\n",
       "      <td>1.000000</td>\n",
       "      <td>1.000000</td>\n",
       "      <td>1.000000</td>\n",
       "      <td>0.947368</td>\n",
       "      <td>0.928571</td>\n",
       "      <td>0.975188</td>\n",
       "    </tr>\n",
       "  </tbody>\n",
       "</table>\n",
       "</div>"
      ],
      "text/plain": [
       "                                Name  \\\n",
       "0  DecisionTree_82108063030395210541   \n",
       "1                                 RF   \n",
       "2           SVM_04604073030395210541   \n",
       "3                                 NB   \n",
       "4                             LogReg   \n",
       "5                             LinReg   \n",
       "\n",
       "                                             Matcher  Num folds    Fold 1  \\\n",
       "0  <magellan.matcher.dtmatcher.DTMatcher object a...          5  1.000000   \n",
       "1  <magellan.matcher.rfmatcher.RFMatcher object a...          5  0.933333   \n",
       "2  <magellan.matcher.svmmatcher.SVMMatcher object...          5  0.133333   \n",
       "3  <magellan.matcher.nbmatcher.NBMatcher object a...          5  1.000000   \n",
       "4  <magellan.matcher.logregmatcher.LogRegMatcher ...          5  0.933333   \n",
       "5  <magellan.matcher.linregmatcher.LinRegMatcher ...          5  1.000000   \n",
       "\n",
       "     Fold 2    Fold 3    Fold 4    Fold 5  Mean score  \n",
       "0  0.954545  0.923077  0.947368  1.000000    0.964998  \n",
       "1  1.000000  1.000000  0.894737  1.000000    0.965614  \n",
       "2  0.090909  0.076923  0.052632  0.000000    0.070759  \n",
       "3  1.000000  1.000000  1.000000  1.000000    1.000000  \n",
       "4  0.909091  1.000000  0.894737  0.785714    0.904575  \n",
       "5  1.000000  1.000000  0.947368  0.928571    0.975188  "
      ]
     },
     "execution_count": 78,
     "metadata": {},
     "output_type": "execute_result"
    }
   ],
   "source": [
    "result['cv_stats']"
   ]
  },
  {
   "cell_type": "code",
   "execution_count": 79,
   "metadata": {
    "collapsed": false
   },
   "outputs": [
    {
     "data": {
      "text/plain": [
       "<magellan.matcher.nbmatcher.NBMatcher at 0x7eff03a03410>"
      ]
     },
     "execution_count": 79,
     "metadata": {},
     "output_type": "execute_result"
    }
   ],
   "source": [
    "result = mg.select_matcher([dt, rf, svm, nb, lg, ln], table=K_feat, \n",
    "        exclude_attrs=['_id', 'ltable.id', 'rtable.id', 'gold'],\n",
    "        target_attr='gold', metric='f1', random_state=0) \n",
    "result['selected_matcher']"
   ]
  },
  {
   "cell_type": "code",
   "execution_count": 81,
   "metadata": {
    "collapsed": false
   },
   "outputs": [
    {
     "data": {
      "text/html": [
       "<div>\n",
       "<table border=\"1\" class=\"dataframe\">\n",
       "  <thead>\n",
       "    <tr style=\"text-align: right;\">\n",
       "      <th></th>\n",
       "      <th>Name</th>\n",
       "      <th>Matcher</th>\n",
       "      <th>Num folds</th>\n",
       "      <th>Fold 1</th>\n",
       "      <th>Fold 2</th>\n",
       "      <th>Fold 3</th>\n",
       "      <th>Fold 4</th>\n",
       "      <th>Fold 5</th>\n",
       "      <th>Mean score</th>\n",
       "    </tr>\n",
       "  </thead>\n",
       "  <tbody>\n",
       "    <tr>\n",
       "      <th>0</th>\n",
       "      <td>DecisionTree_82108063030395210541</td>\n",
       "      <td>&lt;magellan.matcher.dtmatcher.DTMatcher object a...</td>\n",
       "      <td>5</td>\n",
       "      <td>1.000000</td>\n",
       "      <td>0.933333</td>\n",
       "      <td>0.923077</td>\n",
       "      <td>0.972973</td>\n",
       "      <td>1.000000</td>\n",
       "      <td>0.965877</td>\n",
       "    </tr>\n",
       "    <tr>\n",
       "      <th>1</th>\n",
       "      <td>RF</td>\n",
       "      <td>&lt;magellan.matcher.rfmatcher.RFMatcher object a...</td>\n",
       "      <td>5</td>\n",
       "      <td>0.965517</td>\n",
       "      <td>0.956522</td>\n",
       "      <td>0.962963</td>\n",
       "      <td>0.944444</td>\n",
       "      <td>1.000000</td>\n",
       "      <td>0.965889</td>\n",
       "    </tr>\n",
       "    <tr>\n",
       "      <th>2</th>\n",
       "      <td>SVM_04604073030395210541</td>\n",
       "      <td>&lt;magellan.matcher.svmmatcher.SVMMatcher object...</td>\n",
       "      <td>5</td>\n",
       "      <td>0.235294</td>\n",
       "      <td>0.166667</td>\n",
       "      <td>0.142857</td>\n",
       "      <td>0.100000</td>\n",
       "      <td>0.000000</td>\n",
       "      <td>0.128964</td>\n",
       "    </tr>\n",
       "    <tr>\n",
       "      <th>3</th>\n",
       "      <td>NB</td>\n",
       "      <td>&lt;magellan.matcher.nbmatcher.NBMatcher object a...</td>\n",
       "      <td>5</td>\n",
       "      <td>1.000000</td>\n",
       "      <td>0.956522</td>\n",
       "      <td>0.962963</td>\n",
       "      <td>0.974359</td>\n",
       "      <td>1.000000</td>\n",
       "      <td>0.978769</td>\n",
       "    </tr>\n",
       "    <tr>\n",
       "      <th>4</th>\n",
       "      <td>LogReg</td>\n",
       "      <td>&lt;magellan.matcher.logregmatcher.LogRegMatcher ...</td>\n",
       "      <td>5</td>\n",
       "      <td>0.965517</td>\n",
       "      <td>0.952381</td>\n",
       "      <td>0.962963</td>\n",
       "      <td>0.944444</td>\n",
       "      <td>0.880000</td>\n",
       "      <td>0.941061</td>\n",
       "    </tr>\n",
       "    <tr>\n",
       "      <th>5</th>\n",
       "      <td>LinReg</td>\n",
       "      <td>&lt;magellan.matcher.linregmatcher.LinRegMatcher ...</td>\n",
       "      <td>5</td>\n",
       "      <td>1.000000</td>\n",
       "      <td>0.956522</td>\n",
       "      <td>0.928571</td>\n",
       "      <td>0.972973</td>\n",
       "      <td>0.962963</td>\n",
       "      <td>0.964206</td>\n",
       "    </tr>\n",
       "  </tbody>\n",
       "</table>\n",
       "</div>"
      ],
      "text/plain": [
       "                                Name  \\\n",
       "0  DecisionTree_82108063030395210541   \n",
       "1                                 RF   \n",
       "2           SVM_04604073030395210541   \n",
       "3                                 NB   \n",
       "4                             LogReg   \n",
       "5                             LinReg   \n",
       "\n",
       "                                             Matcher  Num folds    Fold 1  \\\n",
       "0  <magellan.matcher.dtmatcher.DTMatcher object a...          5  1.000000   \n",
       "1  <magellan.matcher.rfmatcher.RFMatcher object a...          5  0.965517   \n",
       "2  <magellan.matcher.svmmatcher.SVMMatcher object...          5  0.235294   \n",
       "3  <magellan.matcher.nbmatcher.NBMatcher object a...          5  1.000000   \n",
       "4  <magellan.matcher.logregmatcher.LogRegMatcher ...          5  0.965517   \n",
       "5  <magellan.matcher.linregmatcher.LinRegMatcher ...          5  1.000000   \n",
       "\n",
       "     Fold 2    Fold 3    Fold 4    Fold 5  Mean score  \n",
       "0  0.933333  0.923077  0.972973  1.000000    0.965877  \n",
       "1  0.956522  0.962963  0.944444  1.000000    0.965889  \n",
       "2  0.166667  0.142857  0.100000  0.000000    0.128964  \n",
       "3  0.956522  0.962963  0.974359  1.000000    0.978769  \n",
       "4  0.952381  0.962963  0.944444  0.880000    0.941061  \n",
       "5  0.956522  0.928571  0.972973  0.962963    0.964206  "
      ]
     },
     "execution_count": 81,
     "metadata": {},
     "output_type": "execute_result"
    }
   ],
   "source": [
    "result['cv_stats']"
   ]
  },
  {
   "cell_type": "code",
   "execution_count": 82,
   "metadata": {
    "collapsed": true
   },
   "outputs": [],
   "source": [
    "# Split feature vectors to train and test\n",
    "UV = mg.train_test_split(K_feat, train_proportion=0.7, random_state=0)\n",
    "U = UV['train']\n",
    "V = UV['test']"
   ]
  },
  {
   "cell_type": "code",
   "execution_count": 83,
   "metadata": {
    "collapsed": false
   },
   "outputs": [
    {
     "name": "stdout",
     "output_type": "stream",
     "text": [
      "Precision : 100.0% (26/26)\n",
      "Recall : 100.0% (26/26)\n",
      "F1 : 100.0%\n",
      "False positives : 0 (out of 26 positive predictions)\n",
      "False negatives : 0 (out of 68 negative predictions)\n"
     ]
    }
   ],
   "source": [
    "# Train ln using U\n",
    "nb.fit(table=U, \n",
    "       exclude_attrs=['_id', 'ltable._id', 'rtable._id', 'gold'], \n",
    "       target_attr='gold')\n",
    "\n",
    "L = nb.predict(table=V, exclude_attrs=['_id', 'ltable._id', 'rtable._id', 'gold'], \n",
    "              append=True, target_attr='predicted', inplace=False)\n",
    "eval_result = mg.eval_matches(L, 'gold', 'predicted')\n",
    "mg.print_eval_summary(eval_result)"
   ]
  },
  {
   "cell_type": "code",
   "execution_count": 129,
   "metadata": {
    "collapsed": false
   },
   "outputs": [
    {
     "name": "stderr",
     "output_type": "stream",
     "text": [
      "0%      100%\n",
      "[##########] | ETA[sec]: 0.000 \n",
      "Total time elapsed: 0.190 sec\n"
     ]
    },
    {
     "data": {
      "text/html": [
       "<div>\n",
       "<table border=\"1\" class=\"dataframe\">\n",
       "  <thead>\n",
       "    <tr style=\"text-align: right;\">\n",
       "      <th></th>\n",
       "      <th>Metric</th>\n",
       "      <th>Num folds</th>\n",
       "      <th>Fold 1</th>\n",
       "      <th>Fold 2</th>\n",
       "      <th>Fold 3</th>\n",
       "      <th>Fold 4</th>\n",
       "      <th>Fold 5</th>\n",
       "      <th>Fold 6</th>\n",
       "      <th>Fold 7</th>\n",
       "      <th>Fold 8</th>\n",
       "      <th>Fold 9</th>\n",
       "      <th>Fold 10</th>\n",
       "      <th>Mean score</th>\n",
       "    </tr>\n",
       "  </thead>\n",
       "  <tbody>\n",
       "    <tr>\n",
       "      <th>0</th>\n",
       "      <td>precision</td>\n",
       "      <td>10</td>\n",
       "      <td>1</td>\n",
       "      <td>1</td>\n",
       "      <td>1</td>\n",
       "      <td>1</td>\n",
       "      <td>0.909091</td>\n",
       "      <td>1</td>\n",
       "      <td>1</td>\n",
       "      <td>0.857143</td>\n",
       "      <td>1</td>\n",
       "      <td>0.900000</td>\n",
       "      <td>0.966623</td>\n",
       "    </tr>\n",
       "    <tr>\n",
       "      <th>1</th>\n",
       "      <td>recall</td>\n",
       "      <td>10</td>\n",
       "      <td>1</td>\n",
       "      <td>1</td>\n",
       "      <td>1</td>\n",
       "      <td>1</td>\n",
       "      <td>1.000000</td>\n",
       "      <td>1</td>\n",
       "      <td>1</td>\n",
       "      <td>0.857143</td>\n",
       "      <td>1</td>\n",
       "      <td>1.000000</td>\n",
       "      <td>0.985714</td>\n",
       "    </tr>\n",
       "    <tr>\n",
       "      <th>2</th>\n",
       "      <td>f1</td>\n",
       "      <td>10</td>\n",
       "      <td>1</td>\n",
       "      <td>1</td>\n",
       "      <td>1</td>\n",
       "      <td>1</td>\n",
       "      <td>0.952381</td>\n",
       "      <td>1</td>\n",
       "      <td>1</td>\n",
       "      <td>0.857143</td>\n",
       "      <td>1</td>\n",
       "      <td>0.947368</td>\n",
       "      <td>0.975689</td>\n",
       "    </tr>\n",
       "  </tbody>\n",
       "</table>\n",
       "</div>"
      ],
      "text/plain": [
       "      Metric  Num folds  Fold 1  Fold 2  Fold 3  Fold 4    Fold 5  Fold 6  \\\n",
       "0  precision         10       1       1       1       1  0.909091       1   \n",
       "1     recall         10       1       1       1       1  1.000000       1   \n",
       "2         f1         10       1       1       1       1  0.952381       1   \n",
       "\n",
       "   Fold 7    Fold 8  Fold 9   Fold 10  Mean score  \n",
       "0       1  0.857143       1  0.900000    0.966623  \n",
       "1       1  0.857143       1  1.000000    0.985714  \n",
       "2       1  0.857143       1  0.947368    0.975689  "
      ]
     },
     "execution_count": 129,
     "metadata": {},
     "output_type": "execute_result"
    }
   ],
   "source": [
    "I_test = mg.cv_matcher_and_trigger(nb, [], table = K_feat, \n",
    "                                   exclude_attrs=['_id', 'ltable.id', 'rtable.id', 'gold'],\n",
    "                                  target_attr='gold', k=10)\n",
    "I_test['cv_stats']"
   ]
  },
  {
   "cell_type": "code",
   "execution_count": null,
   "metadata": {
    "collapsed": true
   },
   "outputs": [],
   "source": []
  },
  {
   "cell_type": "code",
   "execution_count": 94,
   "metadata": {
    "collapsed": true
   },
   "outputs": [],
   "source": [
    "# Now Z is DT (features: feat_subset_iter2) + neg_trigger\n",
    "# Validate Z using J\n",
    "# Steps\n",
    "# 1. Extract feature vectors (using feat_subset_iter2) -- > M\n",
    "# 2. Train DT using H (feature vectors generated using I)\n",
    "# 3. Predict M using DT\n",
    "# 4. Apply negative trigger\n",
    "# 5. Evaluate the result"
   ]
  },
  {
   "cell_type": "code",
   "execution_count": 103,
   "metadata": {
    "collapsed": true
   },
   "outputs": [],
   "source": [
    "#Test using Approach 1\n",
    "# Extract feature vectors\n",
    "M = mg.extract_feature_vecs(J, feature_table=feat_table, attrs_after='gold')"
   ]
  },
  {
   "cell_type": "code",
   "execution_count": 104,
   "metadata": {
    "collapsed": true
   },
   "outputs": [],
   "source": [
    "# Impute missing values\n",
    "M.fillna(0, inplace=True)"
   ]
  },
  {
   "cell_type": "code",
   "execution_count": 105,
   "metadata": {
    "collapsed": true
   },
   "outputs": [],
   "source": [
    "# Train using feature vectors from I \n",
    "rf.fit(table=K, \n",
    "       exclude_attrs=['_id', 'ltable._id', 'rtable._id', 'gold'], \n",
    "       target_attr='gold')"
   ]
  },
  {
   "cell_type": "code",
   "execution_count": 106,
   "metadata": {
    "collapsed": false
   },
   "outputs": [],
   "source": [
    "# Predict M \n",
    "N = rf.predict(table=M, exclude_attrs=['_id', 'ltable._id', 'rtable._id', 'gold'], \n",
    "              append=True, target_attr='predicted', inplace=False)"
   ]
  },
  {
   "cell_type": "code",
   "execution_count": 107,
   "metadata": {
    "collapsed": false
   },
   "outputs": [
    {
     "name": "stdout",
     "output_type": "stream",
     "text": [
      "Precision : 97.44% (38/39)\n",
      "Recall : 97.44% (38/39)\n",
      "F1 : 97.44%\n",
      "False positives : 1 (out of 39 positive predictions)\n",
      "False negatives : 1 (out of 96 negative predictions)\n"
     ]
    }
   ],
   "source": [
    "# Evaluate the result\n",
    "eval_result = mg.eval_matches(N, 'gold', 'predicted')\n",
    "mg.print_eval_summary(eval_result)\n"
   ]
  },
  {
   "cell_type": "code",
   "execution_count": 108,
   "metadata": {
    "collapsed": true
   },
   "outputs": [],
   "source": [
    "#Approach 2\n",
    "# Apply trigger\n",
    "T = neg_trigger.execute(N, 'predicted', inplace=False)"
   ]
  },
  {
   "cell_type": "code",
   "execution_count": 109,
   "metadata": {
    "collapsed": false
   },
   "outputs": [
    {
     "name": "stdout",
     "output_type": "stream",
     "text": [
      "Precision : 97.37% (37/38)\n",
      "Recall : 94.87% (37/39)\n",
      "F1 : 96.1%\n",
      "False positives : 1 (out of 38 positive predictions)\n",
      "False negatives : 2 (out of 97 negative predictions)\n"
     ]
    }
   ],
   "source": [
    "# Evaluate the result\n",
    "eval_result = mg.eval_matches(T, 'gold', 'predicted')\n",
    "mg.print_eval_summary(eval_result)"
   ]
  },
  {
   "cell_type": "code",
   "execution_count": 135,
   "metadata": {
    "collapsed": true
   },
   "outputs": [],
   "source": [
    "#Approach 3 - Final Model used on the evaluation set J\n",
    "M = mg.extract_feature_vecs(J, feature_table=feat_subset_concat, attrs_after='gold')\n",
    "# Impute missing values\n",
    "M.fillna(0, inplace=True)\n",
    "# Train using feature vectors from I \n",
    "rf.fit(table=K_feat, \n",
    "       exclude_attrs=['_id', 'ltable._id', 'rtable._id', 'gold'], \n",
    "       target_attr='gold')\n",
    "# Predict M \n",
    "N = rf.predict(table=M, exclude_attrs=['_id', 'ltable._id', 'rtable._id', 'gold'], \n",
    "              append=True, target_attr='predicted', inplace=False)"
   ]
  },
  {
   "cell_type": "code",
   "execution_count": 138,
   "metadata": {
    "collapsed": false
   },
   "outputs": [
    {
     "name": "stdout",
     "output_type": "stream",
     "text": [
      "Precision : 97.44% (38/39)\n",
      "Recall : 97.44% (38/39)\n",
      "F1 : 97.44%\n",
      "False positives : 1 (out of 39 positive predictions)\n",
      "False negatives : 1 (out of 96 negative predictions)\n"
     ]
    }
   ],
   "source": [
    "# Evaluate the result\n",
    "eval_result = mg.eval_matches(N, 'gold', 'predicted')\n",
    "mg.print_eval_summary(eval_result)"
   ]
  },
  {
   "cell_type": "code",
   "execution_count": 140,
   "metadata": {
    "collapsed": false
   },
   "outputs": [
    {
     "data": {
      "text/plain": [
       "True"
      ]
     },
     "execution_count": 140,
     "metadata": {},
     "output_type": "execute_result"
    }
   ],
   "source": [
    "N.to_csv('final_matches_test.csv')"
   ]
  },
  {
   "cell_type": "code",
   "execution_count": 114,
   "metadata": {
    "collapsed": true
   },
   "outputs": [],
   "source": [
    "#Approach 4\n",
    "# Apply trigger\n",
    "T = neg_trigger.execute(N, 'predicted', inplace=False)"
   ]
  },
  {
   "cell_type": "code",
   "execution_count": 115,
   "metadata": {
    "collapsed": false
   },
   "outputs": [
    {
     "name": "stdout",
     "output_type": "stream",
     "text": [
      "Precision : 97.37% (37/38)\n",
      "Recall : 94.87% (37/39)\n",
      "F1 : 96.1%\n",
      "False positives : 1 (out of 38 positive predictions)\n",
      "False negatives : 2 (out of 97 negative predictions)\n"
     ]
    }
   ],
   "source": [
    "# Evaluate the result\n",
    "eval_result = mg.eval_matches(T, 'gold', 'predicted')\n",
    "mg.print_eval_summary(eval_result)"
   ]
  },
  {
   "cell_type": "code",
   "execution_count": 109,
   "metadata": {
    "collapsed": false
   },
   "outputs": [
    {
     "data": {
      "text/plain": [
       "True"
      ]
     },
     "execution_count": 109,
     "metadata": {},
     "output_type": "execute_result"
    }
   ],
   "source": [
    "N.to_csv('final_matches.csv')"
   ]
  }
 ],
 "metadata": {
  "kernelspec": {
   "display_name": "Python 2",
   "language": "python",
   "name": "python2"
  },
  "language_info": {
   "codemirror_mode": {
    "name": "ipython",
    "version": 2
   },
   "file_extension": ".py",
   "mimetype": "text/x-python",
   "name": "python",
   "nbconvert_exporter": "python",
   "pygments_lexer": "ipython2",
   "version": "2.7.10"
  }
 },
 "nbformat": 4,
 "nbformat_minor": 0
}
